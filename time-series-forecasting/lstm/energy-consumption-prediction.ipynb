{
  "nbformat": 4,
  "nbformat_minor": 0,
  "metadata": {
    "colab": {
      "provenance": [],
      "authorship_tag": "ABX9TyMzQb3qJfoyFbgCJJJiPhUk"
    },
    "kernelspec": {
      "name": "python3",
      "display_name": "Python 3"
    },
    "language_info": {
      "name": "python"
    }
  },
  "cells": [
    {
      "cell_type": "markdown",
      "source": [
        "# Data Acquisition"
      ],
      "metadata": {
        "id": "OJ7AZCLH-lGB"
      }
    },
    {
      "cell_type": "code",
      "execution_count": 13,
      "metadata": {
        "id": "N9LophU48vBc"
      },
      "outputs": [],
      "source": [
        "import os\n",
        "import urllib\n",
        "import zipfile\n",
        "import polars as pl\n",
        "import numpy as np\n",
        "from sklearn.preprocessing import MinMaxScaler"
      ]
    },
    {
      "cell_type": "code",
      "source": [
        "zip_target_folder = \"energy-prediction\"\n",
        "!mkdir -p $zip_target_folder"
      ],
      "metadata": {
        "id": "qb_QfMGA96JU"
      },
      "execution_count": 14,
      "outputs": []
    },
    {
      "cell_type": "code",
      "source": [
        "zip_filepath = \"energy-prediction.zip\"\n",
        "\n",
        "url_path = \"https://archive.ics.uci.edu/static/public/994/micro+gas+turbine+electrical+energy+prediction.zip\"\n",
        "urllib.request.urlretrieve(url_path, zip_filepath)\n",
        "\n",
        "with zipfile.ZipFile(zip_filepath, \"r\") as zip_ref:\n",
        "    zip_ref.extractall(zip_target_folder)"
      ],
      "metadata": {
        "id": "icN0kJ7L9KHJ"
      },
      "execution_count": 15,
      "outputs": []
    },
    {
      "cell_type": "code",
      "source": [
        "!ls $zip_target_folder"
      ],
      "metadata": {
        "colab": {
          "base_uri": "https://localhost:8080/"
        },
        "id": "TF9CVryY-DcF",
        "outputId": "1144cb48-dbf7-44f8-e9f1-c8210fd8de9e"
      },
      "execution_count": 16,
      "outputs": [
        {
          "output_type": "stream",
          "name": "stdout",
          "text": [
            "test.zip  train.zip\n"
          ]
        }
      ]
    },
    {
      "cell_type": "code",
      "source": [
        "dataset_part_names = [\"train\", \"test\"]\n",
        "\n",
        "for part_name in dataset_part_names:\n",
        "    part_target_folder = f\"{zip_target_folder}/{part_name}\"\n",
        "    part_zip_path = f\"{part_target_folder}.zip\"\n",
        "\n",
        "    with zipfile.ZipFile(part_zip_path, \"r\") as zip_ref:\n",
        "        zip_ref.extractall(part_target_folder)"
      ],
      "metadata": {
        "id": "lxKQ3Q7PZr6U"
      },
      "execution_count": 17,
      "outputs": []
    },
    {
      "cell_type": "code",
      "source": [
        "!ls $zip_target_folder"
      ],
      "metadata": {
        "colab": {
          "base_uri": "https://localhost:8080/"
        },
        "id": "JVA2qOJrcPbg",
        "outputId": "5e900cf0-6ab9-4bf6-9de5-4c9505257824"
      },
      "execution_count": 18,
      "outputs": [
        {
          "output_type": "stream",
          "name": "stdout",
          "text": [
            "test  test.zip\ttrain  train.zip\n"
          ]
        }
      ]
    },
    {
      "cell_type": "code",
      "source": [
        "!ls -R $zip_target_folder/"
      ],
      "metadata": {
        "colab": {
          "base_uri": "https://localhost:8080/"
        },
        "id": "i2MJYIuNbkmZ",
        "outputId": "dae368f9-4da1-420b-d345-3ccac8d7e43c"
      },
      "execution_count": 19,
      "outputs": [
        {
          "output_type": "stream",
          "name": "stdout",
          "text": [
            "energy-prediction/:\n",
            "test  test.zip\ttrain  train.zip\n",
            "\n",
            "energy-prediction/test:\n",
            "test\n",
            "\n",
            "energy-prediction/test/test:\n",
            "ex_22.csv  ex_4.csv\n",
            "\n",
            "energy-prediction/train:\n",
            "train\n",
            "\n",
            "energy-prediction/train/train:\n",
            "ex_1.csv  ex_20.csv  ex_21.csv\tex_23.csv  ex_24.csv  ex_9.csv\n"
          ]
        }
      ]
    },
    {
      "cell_type": "code",
      "source": [
        "!wc -l energy-prediction/train/train/*"
      ],
      "metadata": {
        "colab": {
          "base_uri": "https://localhost:8080/"
        },
        "id": "lLcY-eUjcvx9",
        "outputId": "c8fef164-88e8-4221-9d1b-32e1713c582e"
      },
      "execution_count": 20,
      "outputs": [
        {
          "output_type": "stream",
          "name": "stdout",
          "text": [
            "   9921 energy-prediction/train/train/ex_1.csv\n",
            "   6496 energy-prediction/train/train/ex_20.csv\n",
            "   6496 energy-prediction/train/train/ex_21.csv\n",
            "   9189 energy-prediction/train/train/ex_23.csv\n",
            "   9024 energy-prediction/train/train/ex_24.csv\n",
            "  11820 energy-prediction/train/train/ex_9.csv\n",
            "  52946 total\n"
          ]
        }
      ]
    },
    {
      "cell_type": "code",
      "source": [
        "train_data_folderpath = f\"{zip_target_folder}/train/train/\"\n",
        "test_data_folderpath = f\"{zip_target_folder}/test/test/\""
      ],
      "metadata": {
        "id": "0ovovZYsdaIK"
      },
      "execution_count": 21,
      "outputs": []
    },
    {
      "cell_type": "code",
      "source": [
        "reader_properties = {\n",
        "    # \"separator\": \";\",\n",
        "    # \"decimal_comma\": True,\n",
        "    # \"infer_schema_length\": 10000\n",
        "    \"infer_schema\": False\n",
        "}\n",
        "\n",
        "\n",
        "def load_experiment_df(experiment_file_path):\n",
        "    experiment_df = pl.read_csv(experiment_file_path, **reader_properties).with_columns(\n",
        "        pl.col(\"time\").str.to_decimal().cast(pl.Int64),\n",
        "        pl.col(\"input_voltage\").str.to_decimal().cast(pl.Float64),\n",
        "        pl.col(\"el_power\").str.to_decimal().cast(pl.Float64)\n",
        "    )\n",
        "\n",
        "    return experiment_df"
      ],
      "metadata": {
        "id": "WCBW19PqDqe0"
      },
      "execution_count": 22,
      "outputs": []
    },
    {
      "cell_type": "code",
      "source": [
        "# def load_experiment_df_from_folder(folder_path):\n",
        "#     df = None\n",
        "\n",
        "#     for experiment_file_name in os.listdir(folder_path):\n",
        "#         experiment_file_path = f\"{folder_path}/{experiment_file_name}\"\n",
        "\n",
        "#         experiment_df = load_experiment_df(experiment_file_path)\n",
        "#         if df is None:\n",
        "#             df = experiment_df\n",
        "#         else:\n",
        "#             df = df.vstack(experiment_df)\n",
        "#     return df"
      ],
      "metadata": {
        "id": "nTVqfSu7-j5P"
      },
      "execution_count": null,
      "outputs": []
    },
    {
      "cell_type": "code",
      "source": [
        "# df = load_experiment_df_from_folder(train_data_folderpath)\n",
        "\n",
        "# print(\"Dataset size:\", len(df))\n",
        "\n",
        "# df.head()"
      ],
      "metadata": {
        "colab": {
          "base_uri": "https://localhost:8080/",
          "height": 272
        },
        "id": "IcNEpqXPWcq4",
        "outputId": "992bdb7d-3117-4569-aed6-4735d5926fbd"
      },
      "execution_count": null,
      "outputs": [
        {
          "output_type": "stream",
          "name": "stdout",
          "text": [
            "Dataset size: 3708\n"
          ]
        },
        {
          "output_type": "execute_result",
          "data": {
            "text/plain": [
              "shape: (5, 3)\n",
              "┌──────┬───────────────┬──────────────┐\n",
              "│ time ┆ input_voltage ┆ el_power     │\n",
              "│ ---  ┆ ---           ┆ ---          │\n",
              "│ i64  ┆ f64           ┆ f64          │\n",
              "╞══════╪═══════════════╪══════════════╡\n",
              "│ 840  ┆ 3.0           ┆ 9089.797969  │\n",
              "│ 855  ┆ 3.0           ┆ 17004.530009 │\n",
              "│ 870  ┆ 3.0           ┆ 16086.932648 │\n",
              "│ 885  ┆ 3.0           ┆ 17133.911283 │\n",
              "│ 900  ┆ 3.0           ┆ 17126.525165 │\n",
              "└──────┴───────────────┴──────────────┘"
            ],
            "text/html": [
              "<div><style>\n",
              ".dataframe > thead > tr,\n",
              ".dataframe > tbody > tr {\n",
              "  text-align: right;\n",
              "  white-space: pre-wrap;\n",
              "}\n",
              "</style>\n",
              "<small>shape: (5, 3)</small><table border=\"1\" class=\"dataframe\"><thead><tr><th>time</th><th>input_voltage</th><th>el_power</th></tr><tr><td>i64</td><td>f64</td><td>f64</td></tr></thead><tbody><tr><td>840</td><td>3.0</td><td>9089.797969</td></tr><tr><td>855</td><td>3.0</td><td>17004.530009</td></tr><tr><td>870</td><td>3.0</td><td>16086.932648</td></tr><tr><td>885</td><td>3.0</td><td>17133.911283</td></tr><tr><td>900</td><td>3.0</td><td>17126.525165</td></tr></tbody></table></div>"
            ]
          },
          "metadata": {},
          "execution_count": 43
        }
      ]
    },
    {
      "cell_type": "markdown",
      "source": [
        "# Data Preprocessing & Representation"
      ],
      "metadata": {
        "id": "-F-xeA3AEycr"
      }
    },
    {
      "cell_type": "code",
      "source": [
        "# df = df.drop_nulls()\n",
        "\n",
        "# df.shape"
      ],
      "metadata": {
        "id": "QM99HSzfsX2p"
      },
      "execution_count": null,
      "outputs": []
    },
    {
      "cell_type": "code",
      "source": [
        "def downscale_experiment_df_frequency(experiment_df, downscaling_frequency):\n",
        "    return experiment_df.group_by_dynamic(\"time\", every=downscaling_frequency).agg(\n",
        "        pl.mean(\"input_voltage\"),\n",
        "        pl.col(\"el_power\").sum(),\n",
        "    )"
      ],
      "metadata": {
        "id": "qaX0GaENvhHd"
      },
      "execution_count": 4,
      "outputs": []
    },
    {
      "cell_type": "code",
      "source": [
        "def create_forecasting_sets(data: pl.DataFrame, target_name: str, exog: list[str], context_window_size: int, forecast_horizon: int):\n",
        "    data_size = len(data)\n",
        "    unit_window_size = context_window_size + forecast_horizon\n",
        "    features_cols_names = exog + [target_name]\n",
        "\n",
        "    x, y = [], []\n",
        "\n",
        "    for i in range(data_size - unit_window_size + 1):\n",
        "        forecast_start_idx = i + context_window_size\n",
        "        forecast_stop_idx = forecast_start_idx + forecast_horizon\n",
        "\n",
        "        seq_prev_data = data[i:forecast_start_idx, target_name].to_list()\n",
        "        exog_data = list(data[forecast_start_idx, exog].row(0))\n",
        "        x.append(seq_prev_data + exog_data)\n",
        "\n",
        "        prediction = data[forecast_start_idx:forecast_stop_idx, target_name]\n",
        "        y.append(prediction)\n",
        "\n",
        "    return (np.array(x), np.array(y))"
      ],
      "metadata": {
        "id": "DW81XYZlZeuI"
      },
      "execution_count": 24,
      "outputs": []
    },
    {
      "cell_type": "code",
      "source": [
        "def load_dataset_from_experiment(experiment_filepath, downscaling_frequency, context_window_size, forecast_horizon):\n",
        "    df = load_experiment_df(experiment_filepath)\n",
        "    downscaled_df = downscale_experiment_df_frequency(df, downscaling_frequency)\n",
        "    X, y = create_forecasting_sets(downscaled_df, \"el_power\", [\"input_voltage\"], context_window_size, forecast_horizon)\n",
        "    return X, y"
      ],
      "metadata": {
        "id": "evdHI-bgSLOD"
      },
      "execution_count": 30,
      "outputs": []
    },
    {
      "cell_type": "code",
      "source": [
        "def load_dataset_from_folder(folder_path, downscaling_frequency, context_window_size, forecast_horizon):\n",
        "    X, y = None, None\n",
        "    for experiment_file_name in os.listdir(folder_path):\n",
        "        experiment_file_path = f\"{folder_path}/{experiment_file_name}\"\n",
        "\n",
        "        experiment_X, experiment_y = load_dataset_from_experiment(experiment_file_path, downscaling_frequency, context_window_size, forecast_horizon)\n",
        "        if X is None:\n",
        "            X, y = experiment_X, experiment_y\n",
        "        else:\n",
        "            X = np.vstack((X, experiment_X))\n",
        "            y = np.vstack((y, experiment_y))\n",
        "    return X, y"
      ],
      "metadata": {
        "id": "scK4lrQkty1A"
      },
      "execution_count": 31,
      "outputs": []
    },
    {
      "cell_type": "code",
      "source": [
        "downscaling_frequency = \"15i\"\n",
        "\n",
        "context_window_size = 5\n",
        "forecast_horizon = 1"
      ],
      "metadata": {
        "id": "K3rWfqWQi8o7"
      },
      "execution_count": 6,
      "outputs": []
    },
    {
      "cell_type": "code",
      "source": [
        "X_train, y_train = load_dataset_from_folder(train_data_folderpath, downscaling_frequency, context_window_size, forecast_horizon)\n",
        "\n",
        "X_train.shape, y_train.shape"
      ],
      "metadata": {
        "colab": {
          "base_uri": "https://localhost:8080/"
        },
        "id": "z_YgxnCOwbpo",
        "outputId": "55d09f1d-fbe5-4b5d-87e9-d2e766f66923"
      },
      "execution_count": 394,
      "outputs": [
        {
          "output_type": "execute_result",
          "data": {
            "text/plain": [
              "((3678, 6), (3678, 1))"
            ]
          },
          "metadata": {},
          "execution_count": 394
        }
      ]
    },
    {
      "cell_type": "code",
      "source": [
        "X_train[:5]"
      ],
      "metadata": {
        "colab": {
          "base_uri": "https://localhost:8080/"
        },
        "id": "FClN9l5EIX50",
        "outputId": "5e213d50-5b14-44b8-ce6b-e98d15e76594"
      },
      "execution_count": 395,
      "outputs": [
        {
          "output_type": "execute_result",
          "data": {
            "text/plain": [
              "array([[1.88845441e+04, 1.98418941e+04, 2.09217027e+04, 2.21391560e+04,\n",
              "        2.32277726e+04, 1.00000000e+01],\n",
              "       [1.98418941e+04, 2.09217027e+04, 2.21391560e+04, 2.32277726e+04,\n",
              "        2.61478017e+04, 1.00000000e+01],\n",
              "       [2.09217027e+04, 2.21391560e+04, 2.32277726e+04, 2.61478017e+04,\n",
              "        2.58263513e+04, 1.00000000e+01],\n",
              "       [2.21391560e+04, 2.32277726e+04, 2.61478017e+04, 2.58263513e+04,\n",
              "        2.71533570e+04, 1.00000000e+01],\n",
              "       [2.32277726e+04, 2.61478017e+04, 2.58263513e+04, 2.71533570e+04,\n",
              "        2.84522433e+04, 1.00000000e+01]])"
            ]
          },
          "metadata": {},
          "execution_count": 395
        }
      ]
    },
    {
      "cell_type": "code",
      "source": [
        "y_train[:5]"
      ],
      "metadata": {
        "colab": {
          "base_uri": "https://localhost:8080/"
        },
        "id": "vAK2fveRIc8v",
        "outputId": "9568a326-fe78-454e-e7ce-088b6dc2c34b"
      },
      "execution_count": 396,
      "outputs": [
        {
          "output_type": "execute_result",
          "data": {
            "text/plain": [
              "array([[26147.80167252],\n",
              "       [25826.35129703],\n",
              "       [27153.35704515],\n",
              "       [28452.24329053],\n",
              "       [29588.37127558]])"
            ]
          },
          "metadata": {},
          "execution_count": 396
        }
      ]
    },
    {
      "cell_type": "code",
      "source": [
        "scaler = MinMaxScaler()\n",
        "\n",
        "# Scale `el_power` values\n",
        "scaled_y_train = scaler.fit_transform(y_train)\n",
        "scaled_X_train = X_train.copy()\n",
        "for col in range(context_window_size):\n",
        "    scaled_X_train[:, col] = scaler.transform(X_train[:, col].reshape(-1, 1)).squeeze()\n",
        "\n",
        "scaled_X_train.shape, scaled_y_train.shape"
      ],
      "metadata": {
        "colab": {
          "base_uri": "https://localhost:8080/"
        },
        "id": "XIHe0bqCcynE",
        "outputId": "4a2f0316-b186-468e-8271-f1be0663ba40"
      },
      "execution_count": 397,
      "outputs": [
        {
          "output_type": "execute_result",
          "data": {
            "text/plain": [
              "((3678, 6), (3678, 1))"
            ]
          },
          "metadata": {},
          "execution_count": 397
        }
      ]
    },
    {
      "cell_type": "code",
      "source": [
        "scaled_X_train[:5]"
      ],
      "metadata": {
        "colab": {
          "base_uri": "https://localhost:8080/"
        },
        "id": "zSigSY8x8hkO",
        "outputId": "bcca7e24-6897-4f4a-9f02-4dc66bf4ec04"
      },
      "execution_count": 398,
      "outputs": [
        {
          "output_type": "execute_result",
          "data": {
            "text/plain": [
              "array([[ 0.31072447,  0.33144723,  0.35482071,  0.38117365,  0.40473779,\n",
              "        10.        ],\n",
              "       [ 0.33144723,  0.35482071,  0.38117365,  0.40473779,  0.46794461,\n",
              "        10.        ],\n",
              "       [ 0.35482071,  0.38117365,  0.40473779,  0.46794461,  0.46098651,\n",
              "        10.        ],\n",
              "       [ 0.38117365,  0.40473779,  0.46794461,  0.46098651,  0.48971081,\n",
              "        10.        ],\n",
              "       [ 0.40473779,  0.46794461,  0.46098651,  0.48971081,  0.51782644,\n",
              "        10.        ]])"
            ]
          },
          "metadata": {},
          "execution_count": 398
        }
      ]
    },
    {
      "cell_type": "code",
      "source": [
        "scaled_y_train[:5]"
      ],
      "metadata": {
        "colab": {
          "base_uri": "https://localhost:8080/"
        },
        "id": "ym9F_Akm982-",
        "outputId": "cf8401e9-ce2c-4e5c-e859-6deb932b7e1d"
      },
      "execution_count": 399,
      "outputs": [
        {
          "output_type": "execute_result",
          "data": {
            "text/plain": [
              "array([[0.46794461],\n",
              "       [0.46098651],\n",
              "       [0.48971081],\n",
              "       [0.51782644],\n",
              "       [0.54241902]])"
            ]
          },
          "metadata": {},
          "execution_count": 399
        }
      ]
    },
    {
      "cell_type": "code",
      "source": [
        "def scale_dataset(X, y, n_X_vars):\n",
        "    scaled_y = scaler.transform(y)\n",
        "    scaled_X = X.copy()\n",
        "    for col in range(n_X_vars):\n",
        "        scaled_X[:, col] = scaler.transform(X[:, col].reshape(-1, 1)).squeeze()\n",
        "\n",
        "    return scaled_X, scaled_y"
      ],
      "metadata": {
        "id": "tNwGHo2HLQi3"
      },
      "execution_count": 400,
      "outputs": []
    },
    {
      "cell_type": "code",
      "source": [
        "test_experiment_file_path = f\"{test_data_folderpath}/ex_22.csv\"\n",
        "X_test, y_test = load_dataset_from_experiment(test_experiment_file_path, downscaling_frequency, context_window_size, forecast_horizon)\n",
        "\n",
        "# Scale `el_power` values\n",
        "scaled_X_test, scaled_y_test = scale_dataset(X_test, y_test, context_window_size)\n",
        "\n",
        "scaled_X_test.shape, scaled_y_test.shape"
      ],
      "metadata": {
        "id": "LijC6dML-rNA",
        "colab": {
          "base_uri": "https://localhost:8080/"
        },
        "outputId": "a423ba32-b89a-4159-c9c5-5548bc2362a7"
      },
      "execution_count": 401,
      "outputs": [
        {
          "output_type": "execute_result",
          "data": {
            "text/plain": [
              "((633, 6), (633, 1))"
            ]
          },
          "metadata": {},
          "execution_count": 401
        }
      ]
    },
    {
      "cell_type": "code",
      "source": [
        "scaled_X_test[:5]"
      ],
      "metadata": {
        "colab": {
          "base_uri": "https://localhost:8080/"
        },
        "id": "5Ldhu00_-0AL",
        "outputId": "1d393f15-8012-472c-8729-ea343c49a90a"
      },
      "execution_count": 402,
      "outputs": [
        {
          "output_type": "execute_result",
          "data": {
            "text/plain": [
              "array([[0.02648486, 0.27014493, 0.27219511, 0.24898919, 0.27462564,\n",
              "        3.        ],\n",
              "       [0.27014493, 0.27219511, 0.24898919, 0.27462564, 0.27641163,\n",
              "        3.        ],\n",
              "       [0.27219511, 0.24898919, 0.27462564, 0.27641163, 0.25191617,\n",
              "        3.        ],\n",
              "       [0.24898919, 0.27462564, 0.27641163, 0.25191617, 0.27300057,\n",
              "        3.        ],\n",
              "       [0.27462564, 0.27641163, 0.25191617, 0.27300057, 0.27390302,\n",
              "        3.        ]])"
            ]
          },
          "metadata": {},
          "execution_count": 402
        }
      ]
    },
    {
      "cell_type": "code",
      "source": [
        "scaled_y_test[:5]"
      ],
      "metadata": {
        "colab": {
          "base_uri": "https://localhost:8080/"
        },
        "id": "SYkefum6IN5c",
        "outputId": "6f38906b-f29d-44dc-9792-e3a83f58e35e"
      },
      "execution_count": 403,
      "outputs": [
        {
          "output_type": "execute_result",
          "data": {
            "text/plain": [
              "array([[0.27641163],\n",
              "       [0.25191617],\n",
              "       [0.27300057],\n",
              "       [0.27390302],\n",
              "       [0.27412916]])"
            ]
          },
          "metadata": {},
          "execution_count": 403
        }
      ]
    },
    {
      "cell_type": "markdown",
      "source": [
        "# Modelization"
      ],
      "metadata": {
        "id": "4fpiE0VR_CJ1"
      }
    },
    {
      "cell_type": "code",
      "source": [
        "from tensorflow.keras.models import Sequential\n",
        "from tensorflow.keras.layers import Input, Dense, Dropout, Flatten, LSTM"
      ],
      "metadata": {
        "id": "bHmisPWx_ED8"
      },
      "execution_count": 404,
      "outputs": []
    },
    {
      "cell_type": "code",
      "source": [
        "n_features = scaled_X_train.shape[1]\n",
        "lstm_n_units = 16"
      ],
      "metadata": {
        "id": "-ws6N2HJ_ukg"
      },
      "execution_count": 414,
      "outputs": []
    },
    {
      "cell_type": "code",
      "source": [
        "model = Sequential([\n",
        "    Input((n_features, 1)),\n",
        "    LSTM(lstm_n_units),\n",
        "    Dense(forecast_horizon),\n",
        "])\n",
        "\n",
        "model.summary()"
      ],
      "metadata": {
        "colab": {
          "base_uri": "https://localhost:8080/",
          "height": 193
        },
        "id": "Qh9euh1F_Z-6",
        "outputId": "2cc47370-a164-4668-a463-f9b44415813a"
      },
      "execution_count": 423,
      "outputs": [
        {
          "output_type": "display_data",
          "data": {
            "text/plain": [
              "\u001b[1mModel: \"sequential_21\"\u001b[0m\n"
            ],
            "text/html": [
              "<pre style=\"white-space:pre;overflow-x:auto;line-height:normal;font-family:Menlo,'DejaVu Sans Mono',consolas,'Courier New',monospace\"><span style=\"font-weight: bold\">Model: \"sequential_21\"</span>\n",
              "</pre>\n"
            ]
          },
          "metadata": {}
        },
        {
          "output_type": "display_data",
          "data": {
            "text/plain": [
              "┏━━━━━━━━━━━━━━━━━━━━━━━━━━━━━━━━━┳━━━━━━━━━━━━━━━━━━━━━━━━┳━━━━━━━━━━━━━━━┓\n",
              "┃\u001b[1m \u001b[0m\u001b[1mLayer (type)                   \u001b[0m\u001b[1m \u001b[0m┃\u001b[1m \u001b[0m\u001b[1mOutput Shape          \u001b[0m\u001b[1m \u001b[0m┃\u001b[1m \u001b[0m\u001b[1m      Param #\u001b[0m\u001b[1m \u001b[0m┃\n",
              "┡━━━━━━━━━━━━━━━━━━━━━━━━━━━━━━━━━╇━━━━━━━━━━━━━━━━━━━━━━━━╇━━━━━━━━━━━━━━━┩\n",
              "│ lstm_13 (\u001b[38;5;33mLSTM\u001b[0m)                  │ (\u001b[38;5;45mNone\u001b[0m, \u001b[38;5;34m16\u001b[0m)             │         \u001b[38;5;34m1,152\u001b[0m │\n",
              "├─────────────────────────────────┼────────────────────────┼───────────────┤\n",
              "│ dense_34 (\u001b[38;5;33mDense\u001b[0m)                │ (\u001b[38;5;45mNone\u001b[0m, \u001b[38;5;34m1\u001b[0m)              │            \u001b[38;5;34m17\u001b[0m │\n",
              "└─────────────────────────────────┴────────────────────────┴───────────────┘\n"
            ],
            "text/html": [
              "<pre style=\"white-space:pre;overflow-x:auto;line-height:normal;font-family:Menlo,'DejaVu Sans Mono',consolas,'Courier New',monospace\">┏━━━━━━━━━━━━━━━━━━━━━━━━━━━━━━━━━┳━━━━━━━━━━━━━━━━━━━━━━━━┳━━━━━━━━━━━━━━━┓\n",
              "┃<span style=\"font-weight: bold\"> Layer (type)                    </span>┃<span style=\"font-weight: bold\"> Output Shape           </span>┃<span style=\"font-weight: bold\">       Param # </span>┃\n",
              "┡━━━━━━━━━━━━━━━━━━━━━━━━━━━━━━━━━╇━━━━━━━━━━━━━━━━━━━━━━━━╇━━━━━━━━━━━━━━━┩\n",
              "│ lstm_13 (<span style=\"color: #0087ff; text-decoration-color: #0087ff\">LSTM</span>)                  │ (<span style=\"color: #00d7ff; text-decoration-color: #00d7ff\">None</span>, <span style=\"color: #00af00; text-decoration-color: #00af00\">16</span>)             │         <span style=\"color: #00af00; text-decoration-color: #00af00\">1,152</span> │\n",
              "├─────────────────────────────────┼────────────────────────┼───────────────┤\n",
              "│ dense_34 (<span style=\"color: #0087ff; text-decoration-color: #0087ff\">Dense</span>)                │ (<span style=\"color: #00d7ff; text-decoration-color: #00d7ff\">None</span>, <span style=\"color: #00af00; text-decoration-color: #00af00\">1</span>)              │            <span style=\"color: #00af00; text-decoration-color: #00af00\">17</span> │\n",
              "└─────────────────────────────────┴────────────────────────┴───────────────┘\n",
              "</pre>\n"
            ]
          },
          "metadata": {}
        },
        {
          "output_type": "display_data",
          "data": {
            "text/plain": [
              "\u001b[1m Total params: \u001b[0m\u001b[38;5;34m1,169\u001b[0m (4.57 KB)\n"
            ],
            "text/html": [
              "<pre style=\"white-space:pre;overflow-x:auto;line-height:normal;font-family:Menlo,'DejaVu Sans Mono',consolas,'Courier New',monospace\"><span style=\"font-weight: bold\"> Total params: </span><span style=\"color: #00af00; text-decoration-color: #00af00\">1,169</span> (4.57 KB)\n",
              "</pre>\n"
            ]
          },
          "metadata": {}
        },
        {
          "output_type": "display_data",
          "data": {
            "text/plain": [
              "\u001b[1m Trainable params: \u001b[0m\u001b[38;5;34m1,169\u001b[0m (4.57 KB)\n"
            ],
            "text/html": [
              "<pre style=\"white-space:pre;overflow-x:auto;line-height:normal;font-family:Menlo,'DejaVu Sans Mono',consolas,'Courier New',monospace\"><span style=\"font-weight: bold\"> Trainable params: </span><span style=\"color: #00af00; text-decoration-color: #00af00\">1,169</span> (4.57 KB)\n",
              "</pre>\n"
            ]
          },
          "metadata": {}
        },
        {
          "output_type": "display_data",
          "data": {
            "text/plain": [
              "\u001b[1m Non-trainable params: \u001b[0m\u001b[38;5;34m0\u001b[0m (0.00 B)\n"
            ],
            "text/html": [
              "<pre style=\"white-space:pre;overflow-x:auto;line-height:normal;font-family:Menlo,'DejaVu Sans Mono',consolas,'Courier New',monospace\"><span style=\"font-weight: bold\"> Non-trainable params: </span><span style=\"color: #00af00; text-decoration-color: #00af00\">0</span> (0.00 B)\n",
              "</pre>\n"
            ]
          },
          "metadata": {}
        }
      ]
    },
    {
      "cell_type": "code",
      "source": [
        "model.compile(optimizer=\"adam\", loss=\"mse\", metrics=[\"mae\"])\n",
        "\n",
        "fitting_batch_size = 32\n",
        "n_epochs = 3\n",
        "history = model.fit(scaled_X_train, scaled_y_train, epochs=n_epochs, validation_split=0.1, batch_size=fitting_batch_size)"
      ],
      "metadata": {
        "colab": {
          "base_uri": "https://localhost:8080/"
        },
        "id": "OXOhwbub_cgv",
        "outputId": "823209aa-9162-45c0-f25b-cee5467d87d7"
      },
      "execution_count": 424,
      "outputs": [
        {
          "output_type": "stream",
          "name": "stdout",
          "text": [
            "Epoch 1/3\n",
            "\u001b[1m104/104\u001b[0m \u001b[32m━━━━━━━━━━━━━━━━━━━━\u001b[0m\u001b[37m\u001b[0m \u001b[1m3s\u001b[0m 8ms/step - loss: 0.2890 - mae: 0.4219 - val_loss: 0.0061 - val_mae: 0.0715\n",
            "Epoch 2/3\n",
            "\u001b[1m104/104\u001b[0m \u001b[32m━━━━━━━━━━━━━━━━━━━━\u001b[0m\u001b[37m\u001b[0m \u001b[1m1s\u001b[0m 5ms/step - loss: 0.0093 - mae: 0.0828 - val_loss: 0.0018 - val_mae: 0.0358\n",
            "Epoch 3/3\n",
            "\u001b[1m104/104\u001b[0m \u001b[32m━━━━━━━━━━━━━━━━━━━━\u001b[0m\u001b[37m\u001b[0m \u001b[1m1s\u001b[0m 7ms/step - loss: 0.0023 - mae: 0.0339 - val_loss: 6.3787e-04 - val_mae: 0.0134\n"
          ]
        }
      ]
    },
    {
      "cell_type": "code",
      "source": [
        "import matplotlib.pyplot as plt\n",
        "\n",
        "plt.plot(history.history[\"mae\"])\n",
        "plt.plot(history.history[\"val_mae\"])\n",
        "plt.legend([\"mae\", \"val_mae\"])\n",
        "plt.xlabel(\"Epoch\")\n",
        "plt.ylabel(\"Mean Absolute Error\")\n",
        "plt.show()"
      ],
      "metadata": {
        "colab": {
          "base_uri": "https://localhost:8080/",
          "height": 449
        },
        "id": "F95XnNtsAxZq",
        "outputId": "05596306-8c23-43ad-daf5-93d8f80192f7"
      },
      "execution_count": 425,
      "outputs": [
        {
          "output_type": "display_data",
          "data": {
            "text/plain": [
              "<Figure size 640x480 with 1 Axes>"
            ],
            "image/png": "[encoded data removed]"
          },
          "metadata": {}
        }
      ]
    },
    {
      "cell_type": "markdown",
      "source": [
        "# Evaluation"
      ],
      "metadata": {
        "id": "Mvssrdn0Cn0j"
      }
    },
    {
      "cell_type": "code",
      "source": [
        "loss, mae = model.evaluate(scaled_X_test, scaled_y_test)\n",
        "\n",
        "print(\"Evaluation Loss:\", loss)\n",
        "print(\"Evaluation MAE:\", mae)"
      ],
      "metadata": {
        "colab": {
          "base_uri": "https://localhost:8080/"
        },
        "id": "M3UklqvaCmfM",
        "outputId": "c64b70ac-29ed-45f7-e9dc-9c7962b6f785"
      },
      "execution_count": 426,
      "outputs": [
        {
          "output_type": "stream",
          "name": "stdout",
          "text": [
            "\u001b[1m20/20\u001b[0m \u001b[32m━━━━━━━━━━━━━━━━━━━━\u001b[0m\u001b[37m\u001b[0m \u001b[1m0s\u001b[0m 4ms/step - loss: 0.0017 - mae: 0.0292     \n",
            "Evaluation Loss: 0.002601663349196315\n",
            "Evaluation MAE: 0.038965895771980286\n"
          ]
        }
      ]
    },
    {
      "cell_type": "code",
      "source": [
        "y_pred = model.predict(scaled_X_test)"
      ],
      "metadata": {
        "colab": {
          "base_uri": "https://localhost:8080/"
        },
        "id": "HPaL4ziaE7qE",
        "outputId": "b6c05823-f864-4560-fb79-cf6bef63a576"
      },
      "execution_count": 427,
      "outputs": [
        {
          "output_type": "stream",
          "name": "stdout",
          "text": [
            "\u001b[1m20/20\u001b[0m \u001b[32m━━━━━━━━━━━━━━━━━━━━\u001b[0m\u001b[37m\u001b[0m \u001b[1m0s\u001b[0m 11ms/step\n"
          ]
        }
      ]
    },
    {
      "cell_type": "code",
      "source": [
        "y_pred.shape"
      ],
      "metadata": {
        "colab": {
          "base_uri": "https://localhost:8080/"
        },
        "id": "pxqxqo2oDEz4",
        "outputId": "17ed79d9-bc41-4d08-a9f6-471a41c30fc6"
      },
      "execution_count": 428,
      "outputs": [
        {
          "output_type": "execute_result",
          "data": {
            "text/plain": [
              "(633, 1)"
            ]
          },
          "metadata": {},
          "execution_count": 428
        }
      ]
    },
    {
      "cell_type": "code",
      "source": [
        "from sklearn.metrics import r2_score\n",
        "\n",
        "score = r2_score(scaled_y_test, y_pred)\n",
        "print(\"R2 Score:\", score)"
      ],
      "metadata": {
        "colab": {
          "base_uri": "https://localhost:8080/"
        },
        "id": "A-t_Xm_MwoXH",
        "outputId": "ae094e41-afc6-4f50-8546-49d33bf4aa85"
      },
      "execution_count": 430,
      "outputs": [
        {
          "output_type": "stream",
          "name": "stdout",
          "text": [
            "R2 Score: 0.9267723454072323\n"
          ]
        }
      ]
    },
    {
      "cell_type": "code",
      "source": [
        "y_pred_inv = scaler.inverse_transform(y_pred).flatten()\n",
        "y_test_inv = scaler.inverse_transform(scaled_y_test).flatten()\n",
        "\n",
        "print((len(y_pred_inv), len(y_test_inv)))\n",
        "\n",
        "plt.figure(figsize=(15,5))\n",
        "plt.plot(y_test_inv, label=\"Actual\")\n",
        "plt.plot(y_pred_inv, label=\"Predicted\")\n",
        "plt.xlabel(\"Time Interval (*15s)\")\n",
        "plt.ylabel(\"el_power\")\n",
        "plt.legend()\n",
        "plt.show()"
      ],
      "metadata": {
        "colab": {
          "base_uri": "https://localhost:8080/",
          "height": 482
        },
        "id": "4BfHB2yLGYnQ",
        "outputId": "32a77207-b78a-4983-96d5-cece5f719fc7"
      },
      "execution_count": 434,
      "outputs": [
        {
          "output_type": "stream",
          "name": "stdout",
          "text": [
            "(633, 633)\n"
          ]
        },
        {
          "output_type": "display_data",
          "data": {
            "text/plain": [
              "<Figure size 1500x500 with 1 Axes>"
            ],
            "image/png": "[encoded data removed]"
          },
          "metadata": {}
        }
      ]
    },
    {
      "cell_type": "markdown",
      "source": [
        "# Model Backup"
      ],
      "metadata": {
        "id": "kAAKydrfNnwr"
      }
    },
    {
      "cell_type": "code",
      "source": [
        "from google.colab import drive\n",
        "drive.mount('/gdrive')"
      ],
      "metadata": {
        "colab": {
          "base_uri": "https://localhost:8080/"
        },
        "id": "XK1le7TROLGg",
        "outputId": "f0ba8507-d0fd-4ace-fe2a-ae55c4f6c5d9"
      },
      "execution_count": 435,
      "outputs": [
        {
          "output_type": "stream",
          "name": "stdout",
          "text": [
            "Drive already mounted at /gdrive; to attempt to forcibly remount, call drive.mount(\"/gdrive\", force_remount=True).\n"
          ]
        }
      ]
    },
    {
      "cell_type": "code",
      "source": [
        "backup_folder_path = \"/gdrive/MyDrive/ESTIAM/E5/AI-ML-Model-Design/TimeSeries-Forecasting/backup\""
      ],
      "metadata": {
        "id": "k00Zl0H8NrFf"
      },
      "execution_count": 436,
      "outputs": []
    },
    {
      "cell_type": "code",
      "source": [
        "!mkdir -p \"$backup_folder_path\""
      ],
      "metadata": {
        "id": "IlYYGW6aRsYY"
      },
      "execution_count": 437,
      "outputs": []
    },
    {
      "cell_type": "code",
      "source": [
        "scaler_file_path = f\"{backup_folder_path}/scaler.joblib\"\n",
        "model_file_path = f\"{backup_folder_path}/model.keras\""
      ],
      "metadata": {
        "id": "c8rV-e8mTCGX"
      },
      "execution_count": 438,
      "outputs": []
    },
    {
      "cell_type": "code",
      "source": [
        "import joblib\n",
        "\n",
        "joblib.dump(scaler, scaler_file_path)\n",
        "model.save(model_file_path)"
      ],
      "metadata": {
        "id": "BR-sbtFCSc5v"
      },
      "execution_count": 439,
      "outputs": []
    },
    {
      "cell_type": "code",
      "source": [
        "!ls {backup_folder_path}"
      ],
      "metadata": {
        "colab": {
          "base_uri": "https://localhost:8080/"
        },
        "id": "16N1a1CAVAUy",
        "outputId": "ac31f742-f263-478b-a4dd-44b470592390"
      },
      "execution_count": 443,
      "outputs": [
        {
          "output_type": "stream",
          "name": "stdout",
          "text": [
            "model.keras  scaler.joblib\n"
          ]
        }
      ]
    },
    {
      "cell_type": "markdown",
      "source": [
        "# Model Loading & Manual Testing"
      ],
      "metadata": {
        "id": "U6_sNV2mVHpt"
      }
    },
    {
      "cell_type": "markdown",
      "source": [
        "## Loading"
      ],
      "metadata": {
        "id": "eZ1N-Kr3ZZ8k"
      }
    },
    {
      "cell_type": "code",
      "source": [
        "from tensorflow import keras\n",
        "\n",
        "loaded_scaler = joblib.load(scaler_file_path)\n",
        "loaded_model = keras.models.load_model(model_file_path)"
      ],
      "metadata": {
        "id": "0Vhh71oFVcOp"
      },
      "execution_count": 441,
      "outputs": []
    },
    {
      "cell_type": "code",
      "source": [
        "loaded_model.summary()"
      ],
      "metadata": {
        "colab": {
          "base_uri": "https://localhost:8080/",
          "height": 209
        },
        "id": "0HZWrDMsXgq_",
        "outputId": "206d8837-1f9f-4241-ea09-00a8fda2611a"
      },
      "execution_count": 442,
      "outputs": [
        {
          "output_type": "display_data",
          "data": {
            "text/plain": [
              "\u001b[1mModel: \"sequential_21\"\u001b[0m\n"
            ],
            "text/html": [
              "<pre style=\"white-space:pre;overflow-x:auto;line-height:normal;font-family:Menlo,'DejaVu Sans Mono',consolas,'Courier New',monospace\"><span style=\"font-weight: bold\">Model: \"sequential_21\"</span>\n",
              "</pre>\n"
            ]
          },
          "metadata": {}
        },
        {
          "output_type": "display_data",
          "data": {
            "text/plain": [
              "┏━━━━━━━━━━━━━━━━━━━━━━━━━━━━━━━━━┳━━━━━━━━━━━━━━━━━━━━━━━━┳━━━━━━━━━━━━━━━┓\n",
              "┃\u001b[1m \u001b[0m\u001b[1mLayer (type)                   \u001b[0m\u001b[1m \u001b[0m┃\u001b[1m \u001b[0m\u001b[1mOutput Shape          \u001b[0m\u001b[1m \u001b[0m┃\u001b[1m \u001b[0m\u001b[1m      Param #\u001b[0m\u001b[1m \u001b[0m┃\n",
              "┡━━━━━━━━━━━━━━━━━━━━━━━━━━━━━━━━━╇━━━━━━━━━━━━━━━━━━━━━━━━╇━━━━━━━━━━━━━━━┩\n",
              "│ lstm_13 (\u001b[38;5;33mLSTM\u001b[0m)                  │ (\u001b[38;5;45mNone\u001b[0m, \u001b[38;5;34m16\u001b[0m)             │         \u001b[38;5;34m1,152\u001b[0m │\n",
              "├─────────────────────────────────┼────────────────────────┼───────────────┤\n",
              "│ dense_34 (\u001b[38;5;33mDense\u001b[0m)                │ (\u001b[38;5;45mNone\u001b[0m, \u001b[38;5;34m1\u001b[0m)              │            \u001b[38;5;34m17\u001b[0m │\n",
              "└─────────────────────────────────┴────────────────────────┴───────────────┘\n"
            ],
            "text/html": [
              "<pre style=\"white-space:pre;overflow-x:auto;line-height:normal;font-family:Menlo,'DejaVu Sans Mono',consolas,'Courier New',monospace\">┏━━━━━━━━━━━━━━━━━━━━━━━━━━━━━━━━━┳━━━━━━━━━━━━━━━━━━━━━━━━┳━━━━━━━━━━━━━━━┓\n",
              "┃<span style=\"font-weight: bold\"> Layer (type)                    </span>┃<span style=\"font-weight: bold\"> Output Shape           </span>┃<span style=\"font-weight: bold\">       Param # </span>┃\n",
              "┡━━━━━━━━━━━━━━━━━━━━━━━━━━━━━━━━━╇━━━━━━━━━━━━━━━━━━━━━━━━╇━━━━━━━━━━━━━━━┩\n",
              "│ lstm_13 (<span style=\"color: #0087ff; text-decoration-color: #0087ff\">LSTM</span>)                  │ (<span style=\"color: #00d7ff; text-decoration-color: #00d7ff\">None</span>, <span style=\"color: #00af00; text-decoration-color: #00af00\">16</span>)             │         <span style=\"color: #00af00; text-decoration-color: #00af00\">1,152</span> │\n",
              "├─────────────────────────────────┼────────────────────────┼───────────────┤\n",
              "│ dense_34 (<span style=\"color: #0087ff; text-decoration-color: #0087ff\">Dense</span>)                │ (<span style=\"color: #00d7ff; text-decoration-color: #00d7ff\">None</span>, <span style=\"color: #00af00; text-decoration-color: #00af00\">1</span>)              │            <span style=\"color: #00af00; text-decoration-color: #00af00\">17</span> │\n",
              "└─────────────────────────────────┴────────────────────────┴───────────────┘\n",
              "</pre>\n"
            ]
          },
          "metadata": {}
        },
        {
          "output_type": "display_data",
          "data": {
            "text/plain": [
              "\u001b[1m Total params: \u001b[0m\u001b[38;5;34m3,509\u001b[0m (13.71 KB)\n"
            ],
            "text/html": [
              "<pre style=\"white-space:pre;overflow-x:auto;line-height:normal;font-family:Menlo,'DejaVu Sans Mono',consolas,'Courier New',monospace\"><span style=\"font-weight: bold\"> Total params: </span><span style=\"color: #00af00; text-decoration-color: #00af00\">3,509</span> (13.71 KB)\n",
              "</pre>\n"
            ]
          },
          "metadata": {}
        },
        {
          "output_type": "display_data",
          "data": {
            "text/plain": [
              "\u001b[1m Trainable params: \u001b[0m\u001b[38;5;34m1,169\u001b[0m (4.57 KB)\n"
            ],
            "text/html": [
              "<pre style=\"white-space:pre;overflow-x:auto;line-height:normal;font-family:Menlo,'DejaVu Sans Mono',consolas,'Courier New',monospace\"><span style=\"font-weight: bold\"> Trainable params: </span><span style=\"color: #00af00; text-decoration-color: #00af00\">1,169</span> (4.57 KB)\n",
              "</pre>\n"
            ]
          },
          "metadata": {}
        },
        {
          "output_type": "display_data",
          "data": {
            "text/plain": [
              "\u001b[1m Non-trainable params: \u001b[0m\u001b[38;5;34m0\u001b[0m (0.00 B)\n"
            ],
            "text/html": [
              "<pre style=\"white-space:pre;overflow-x:auto;line-height:normal;font-family:Menlo,'DejaVu Sans Mono',consolas,'Courier New',monospace\"><span style=\"font-weight: bold\"> Non-trainable params: </span><span style=\"color: #00af00; text-decoration-color: #00af00\">0</span> (0.00 B)\n",
              "</pre>\n"
            ]
          },
          "metadata": {}
        },
        {
          "output_type": "display_data",
          "data": {
            "text/plain": [
              "\u001b[1m Optimizer params: \u001b[0m\u001b[38;5;34m2,340\u001b[0m (9.14 KB)\n"
            ],
            "text/html": [
              "<pre style=\"white-space:pre;overflow-x:auto;line-height:normal;font-family:Menlo,'DejaVu Sans Mono',consolas,'Courier New',monospace\"><span style=\"font-weight: bold\"> Optimizer params: </span><span style=\"color: #00af00; text-decoration-color: #00af00\">2,340</span> (9.14 KB)\n",
              "</pre>\n"
            ]
          },
          "metadata": {}
        }
      ]
    },
    {
      "cell_type": "markdown",
      "source": [
        "## Testing"
      ],
      "metadata": {
        "id": "0SvOgAwlZdoS"
      }
    },
    {
      "cell_type": "markdown",
      "source": [
        "## From file"
      ],
      "metadata": {
        "id": "g1X_bP7xipck"
      }
    },
    {
      "cell_type": "markdown",
      "source": [
        "Setup test data"
      ],
      "metadata": {
        "id": "QYvUSG5Rycbc"
      }
    },
    {
      "cell_type": "code",
      "source": [
        "test_experiment_file_path = f\"{test_data_folderpath}/ex_4.csv\"\n",
        "X_test, y_test = load_dataset_from_experiment(test_experiment_file_path, downscaling_frequency, context_window_size, forecast_horizon)\n",
        "\n",
        "# Scale `el_power` values\n",
        "scaled_X_test, scaled_y_test = scale_dataset(X_test, y_test, context_window_size)\n",
        "\n",
        "scaled_X_test.shape, scaled_y_test.shape"
      ],
      "metadata": {
        "colab": {
          "base_uri": "https://localhost:8080/"
        },
        "id": "oIXFZliPaGDW",
        "outputId": "69d16533-92a1-4181-92c5-caa6009ba8c8"
      },
      "execution_count": 444,
      "outputs": [
        {
          "output_type": "execute_result",
          "data": {
            "text/plain": [
              "((649, 6), (649, 1))"
            ]
          },
          "metadata": {},
          "execution_count": 444
        }
      ]
    },
    {
      "cell_type": "markdown",
      "source": [
        "Predict with model"
      ],
      "metadata": {
        "id": "-d5pUi6Sy5Yp"
      }
    },
    {
      "cell_type": "code",
      "source": [
        "y_pred = loaded_model.predict(scaled_X_test)"
      ],
      "metadata": {
        "colab": {
          "base_uri": "https://localhost:8080/"
        },
        "id": "a73Rsj3WbaxZ",
        "outputId": "421fc626-dc30-49be-850a-f80a6b01d523"
      },
      "execution_count": 445,
      "outputs": [
        {
          "output_type": "stream",
          "name": "stdout",
          "text": [
            "\u001b[1m21/21\u001b[0m \u001b[32m━━━━━━━━━━━━━━━━━━━━\u001b[0m\u001b[37m\u001b[0m \u001b[1m0s\u001b[0m 10ms/step\n"
          ]
        }
      ]
    },
    {
      "cell_type": "markdown",
      "source": [
        "Display predicted value"
      ],
      "metadata": {
        "id": "uMjd7CKRy-eW"
      }
    },
    {
      "cell_type": "code",
      "source": [
        "scaled_y_test[:5]"
      ],
      "metadata": {
        "colab": {
          "base_uri": "https://localhost:8080/"
        },
        "id": "JnjogDxqH9EV",
        "outputId": "57a68888-555b-4c23-98e3-ff0d6408735f"
      },
      "execution_count": 446,
      "outputs": [
        {
          "output_type": "execute_result",
          "data": {
            "text/plain": [
              "array([[0.30333439],\n",
              "       [0.302118  ],\n",
              "       [0.30118621],\n",
              "       [0.30378112],\n",
              "       [0.3067994 ]])"
            ]
          },
          "metadata": {},
          "execution_count": 446
        }
      ]
    },
    {
      "cell_type": "code",
      "source": [
        "y_pred[:5]"
      ],
      "metadata": {
        "colab": {
          "base_uri": "https://localhost:8080/"
        },
        "id": "4d-yDgqadBUY",
        "outputId": "43845bf7-5283-42cb-e939-bf9307aed3f5"
      },
      "execution_count": 447,
      "outputs": [
        {
          "output_type": "execute_result",
          "data": {
            "text/plain": [
              "array([[0.27101812],\n",
              "       [0.2932069 ],\n",
              "       [0.2931998 ],\n",
              "       [0.29302225],\n",
              "       [0.29305515]], dtype=float32)"
            ]
          },
          "metadata": {},
          "execution_count": 447
        }
      ]
    },
    {
      "cell_type": "markdown",
      "source": [
        "Display unscaled prediction"
      ],
      "metadata": {
        "id": "gdmsOvbMzm0o"
      }
    },
    {
      "cell_type": "code",
      "source": [
        "predicted = scaler.inverse_transform(y_pred).flatten()\n",
        "predicted[:5].tolist()"
      ],
      "metadata": {
        "colab": {
          "base_uri": "https://localhost:8080/"
        },
        "id": "5p30yC4J1SFv",
        "outputId": "7b4768d3-e37f-46ea-83f5-0251910c98aa"
      },
      "execution_count": 448,
      "outputs": [
        {
          "output_type": "execute_result",
          "data": {
            "text/plain": [
              "[17050.189453125,\n",
              " 18075.267578125,\n",
              " 18074.939453125,\n",
              " 18066.736328125,\n",
              " 18068.255859375]"
            ]
          },
          "metadata": {},
          "execution_count": 448
        }
      ]
    },
    {
      "cell_type": "code",
      "source": [
        "expected = scaler.inverse_transform(scaled_y_test).flatten()\n",
        "\n",
        "print((len(predicted), len(expected)))\n",
        "\n",
        "plt.figure(figsize=(15,5))\n",
        "plt.plot(expected, label=\"Actual\")\n",
        "plt.plot(predicted, label=\"Predicted\")\n",
        "plt.xlabel(\"Time Interval (*15s)\")\n",
        "plt.ylabel(\"el_power\")\n",
        "plt.legend()\n",
        "plt.show()"
      ],
      "metadata": {
        "colab": {
          "base_uri": "https://localhost:8080/",
          "height": 482
        },
        "id": "_9QZbemS0PBr",
        "outputId": "2921a694-9449-4ba6-9d2f-b337d4aaf6db"
      },
      "execution_count": 449,
      "outputs": [
        {
          "output_type": "stream",
          "name": "stdout",
          "text": [
            "(649, 649)\n"
          ]
        },
        {
          "output_type": "display_data",
          "data": {
            "text/plain": [
              "<Figure size 1500x500 with 1 Axes>"
            ],
            "image/png": "[encoded data removed]"
          },
          "metadata": {}
        }
      ]
    },
    {
      "cell_type": "markdown",
      "source": [
        "## Custom data"
      ],
      "metadata": {
        "id": "opGHBz30iuzd"
      }
    },
    {
      "cell_type": "code",
      "source": [
        "sample_data = pl.DataFrame(\n",
        "    [\n",
        "        (18500, 3),\n",
        "        (15600, 3),\n",
        "        (17000, 3),\n",
        "        (19850, 3),\n",
        "        (18750, 3),\n",
        "        (15620, 3),\n",
        "        (17050, 3),\n",
        "        (16920, 3),\n",
        "        (17350, 3),\n",
        "        (20450, 5),\n",
        "        (19320, 5),\n",
        "        (19950, 5),\n",
        "        (20300, 5),\n",
        "        (20530, 5),\n",
        "        (20420, 5),\n",
        "    ],\n",
        "    schema={\n",
        "        \"el_power\": pl.Float64,\n",
        "        \"input_voltage\": pl.Float64,\n",
        "    },\n",
        "    orient=\"row\",\n",
        ")\n",
        "\n",
        "print(\"Dataset size:\", len(sample_data))\n",
        "\n",
        "(input, output) = create_forecasting_sets(sample_data, \"el_power\", [\"input_voltage\"], context_window_size, forecast_horizon)\n",
        "\n",
        "scaled_input, _ = scale_dataset(input, output, context_window_size)\n",
        "y_pred = loaded_model.predict(scaled_input)"
      ],
      "metadata": {
        "colab": {
          "base_uri": "https://localhost:8080/"
        },
        "id": "_ow_qipiXzMO",
        "outputId": "54f0934f-0d27-49d0-e3d1-d99ca022c3b0"
      },
      "execution_count": 457,
      "outputs": [
        {
          "output_type": "stream",
          "name": "stdout",
          "text": [
            "Dataset size: 15\n",
            "\u001b[1m1/1\u001b[0m \u001b[32m━━━━━━━━━━━━━━━━━━━━\u001b[0m\u001b[37m\u001b[0m \u001b[1m0s\u001b[0m 55ms/step\n"
          ]
        }
      ]
    },
    {
      "cell_type": "code",
      "source": [
        "predicted = scaler.inverse_transform(y_pred).flatten()\n",
        "\n",
        "print((len(predicted), len(output)))\n",
        "\n",
        "plt.figure(figsize=(10, 5))\n",
        "plt.plot(output, label=\"Actual\")\n",
        "plt.plot(predicted, label=\"Predicted\")\n",
        "plt.xlabel(\"Time Interval (*15s)\")\n",
        "plt.ylabel(\"el_power\")\n",
        "plt.legend()\n",
        "plt.show()"
      ],
      "metadata": {
        "colab": {
          "base_uri": "https://localhost:8080/",
          "height": 482
        },
        "id": "lZ-ZuZ2bhiIM",
        "outputId": "e66189a9-5d48-4dc1-e41c-f4128ea329e2"
      },
      "execution_count": 460,
      "outputs": [
        {
          "output_type": "stream",
          "name": "stdout",
          "text": [
            "(10, 10)\n"
          ]
        },
        {
          "output_type": "display_data",
          "data": {
            "text/plain": [
              "<Figure size 1000x500 with 1 Axes>"
            ],
            "image/png": "[encoded data removed]"
          },
          "metadata": {}
        }
      ]
    }
  ]
}