{
  "nbformat": 4,
  "nbformat_minor": 0,
  "metadata": {
    "colab": {
      "provenance": [],
      "authorship_tag": "ABX9TyN8Dn8yWPKl6Ji2f2z7HHEj"
    },
    "kernelspec": {
      "name": "python3",
      "display_name": "Python 3"
    },
    "language_info": {
      "name": "python"
    }
  },
  "cells": [
    {
      "cell_type": "markdown",
      "source": [
        "# Data Acquisition"
      ],
      "metadata": {
        "id": "OJ7AZCLH-lGB"
      }
    },
    {
      "cell_type": "code",
      "execution_count": null,
      "metadata": {
        "id": "N9LophU48vBc"
      },
      "outputs": [],
      "source": [
        "import urllib\n",
        "import zipfile\n",
        "import polars as pl\n",
        "import numpy as np\n",
        "from sklearn.preprocessing import MinMaxScaler"
      ]
    },
    {
      "cell_type": "code",
      "source": [
        "zip_target_folder = \"electricity\"\n",
        "!mkdir -p $zip_target_folder"
      ],
      "metadata": {
        "id": "qb_QfMGA96JU"
      },
      "execution_count": null,
      "outputs": []
    },
    {
      "cell_type": "code",
      "source": [
        "zip_filepath = \"electricity.zip\"\n",
        "\n",
        "url_path = \"https://archive.ics.uci.edu/ml/machine-learning-databases/00321/LD2011_2014.txt.zip\"\n",
        "urllib.request.urlretrieve(url_path, zip_filepath)\n",
        "\n",
        "with zipfile.ZipFile(zip_filepath, \"r\") as zip_ref:\n",
        "    zip_ref.extractall(zip_target_folder)"
      ],
      "metadata": {
        "id": "icN0kJ7L9KHJ"
      },
      "execution_count": null,
      "outputs": []
    },
    {
      "cell_type": "code",
      "source": [
        "!ls $zip_target_folder"
      ],
      "metadata": {
        "colab": {
          "base_uri": "https://localhost:8080/"
        },
        "id": "TF9CVryY-DcF",
        "outputId": "36c89d0f-c3d5-4fc7-a949-8132a59b402e"
      },
      "execution_count": null,
      "outputs": [
        {
          "output_type": "stream",
          "name": "stdout",
          "text": [
            "LD2011_2014.txt  __MACOSX\n"
          ]
        }
      ]
    },
    {
      "cell_type": "code",
      "source": [
        "!wc -l \"$zip_target_folder/LD2011_2014.txt\""
      ],
      "metadata": {
        "colab": {
          "base_uri": "https://localhost:8080/"
        },
        "id": "sA2dVgPB_PwT",
        "outputId": "7274f29f-be91-422a-eb44-3cfc593d303d"
      },
      "execution_count": null,
      "outputs": [
        {
          "output_type": "stream",
          "name": "stdout",
          "text": [
            "140257 electricity/LD2011_2014.txt\n"
          ]
        }
      ]
    },
    {
      "cell_type": "code",
      "source": [
        "data_filepath = f\"{zip_target_folder}/LD2011_2014.txt\"\n",
        "dataset_size = 140257\n",
        "\n",
        "reader_properties = {\n",
        "    \"separator\": \";\",\n",
        "    \"decimal_comma\": True,\n",
        "    \"infer_schema_length\": dataset_size\n",
        "}\n",
        "\n",
        "df = pl.read_csv(data_filepath, **reader_properties)\n",
        "\n",
        "df.head()"
      ],
      "metadata": {
        "colab": {
          "base_uri": "https://localhost:8080/",
          "height": 448
        },
        "id": "nTVqfSu7-j5P",
        "outputId": "81417d88-5262-4eb1-f4fd-74d7902b7e8b"
      },
      "execution_count": null,
      "outputs": [
        {
          "output_type": "execute_result",
          "data": {
            "text/plain": [
              "shape: (5, 371)\n",
              "┌─────────────────────┬────────┬────────┬────────┬───┬────────┬────────┬────────┬────────┐\n",
              "│                     ┆ MT_001 ┆ MT_002 ┆ MT_003 ┆ … ┆ MT_367 ┆ MT_368 ┆ MT_369 ┆ MT_370 │\n",
              "│ ---                 ┆ ---    ┆ ---    ┆ ---    ┆   ┆ ---    ┆ ---    ┆ ---    ┆ ---    │\n",
              "│ str                 ┆ f64    ┆ f64    ┆ f64    ┆   ┆ f64    ┆ f64    ┆ f64    ┆ f64    │\n",
              "╞═════════════════════╪════════╪════════╪════════╪═══╪════════╪════════╪════════╪════════╡\n",
              "│ 2011-01-01 00:15:00 ┆ 0.0    ┆ 0.0    ┆ 0.0    ┆ … ┆ 0.0    ┆ 0.0    ┆ 0.0    ┆ 0.0    │\n",
              "│ 2011-01-01 00:30:00 ┆ 0.0    ┆ 0.0    ┆ 0.0    ┆ … ┆ 0.0    ┆ 0.0    ┆ 0.0    ┆ 0.0    │\n",
              "│ 2011-01-01 00:45:00 ┆ 0.0    ┆ 0.0    ┆ 0.0    ┆ … ┆ 0.0    ┆ 0.0    ┆ 0.0    ┆ 0.0    │\n",
              "│ 2011-01-01 01:00:00 ┆ 0.0    ┆ 0.0    ┆ 0.0    ┆ … ┆ 0.0    ┆ 0.0    ┆ 0.0    ┆ 0.0    │\n",
              "│ 2011-01-01 01:15:00 ┆ 0.0    ┆ 0.0    ┆ 0.0    ┆ … ┆ 0.0    ┆ 0.0    ┆ 0.0    ┆ 0.0    │\n",
              "└─────────────────────┴────────┴────────┴────────┴───┴────────┴────────┴────────┴────────┘"
            ],
            "text/html": [
              "<div><style>\n",
              ".dataframe > thead > tr,\n",
              ".dataframe > tbody > tr {\n",
              "  text-align: right;\n",
              "  white-space: pre-wrap;\n",
              "}\n",
              "</style>\n",
              "<small>shape: (5, 371)</small><table border=\"1\" class=\"dataframe\"><thead><tr><th></th><th>MT_001</th><th>MT_002</th><th>MT_003</th><th>MT_004</th><th>MT_005</th><th>MT_006</th><th>MT_007</th><th>MT_008</th><th>MT_009</th><th>MT_010</th><th>MT_011</th><th>MT_012</th><th>MT_013</th><th>MT_014</th><th>MT_015</th><th>MT_016</th><th>MT_017</th><th>MT_018</th><th>MT_019</th><th>MT_020</th><th>MT_021</th><th>MT_022</th><th>MT_023</th><th>MT_024</th><th>MT_025</th><th>MT_026</th><th>MT_027</th><th>MT_028</th><th>MT_029</th><th>MT_030</th><th>MT_031</th><th>MT_032</th><th>MT_033</th><th>MT_034</th><th>MT_035</th><th>MT_036</th><th>&hellip;</th><th>MT_334</th><th>MT_335</th><th>MT_336</th><th>MT_337</th><th>MT_338</th><th>MT_339</th><th>MT_340</th><th>MT_341</th><th>MT_342</th><th>MT_343</th><th>MT_344</th><th>MT_345</th><th>MT_346</th><th>MT_347</th><th>MT_348</th><th>MT_349</th><th>MT_350</th><th>MT_351</th><th>MT_352</th><th>MT_353</th><th>MT_354</th><th>MT_355</th><th>MT_356</th><th>MT_357</th><th>MT_358</th><th>MT_359</th><th>MT_360</th><th>MT_361</th><th>MT_362</th><th>MT_363</th><th>MT_364</th><th>MT_365</th><th>MT_366</th><th>MT_367</th><th>MT_368</th><th>MT_369</th><th>MT_370</th></tr><tr><td>str</td><td>f64</td><td>f64</td><td>f64</td><td>f64</td><td>f64</td><td>f64</td><td>f64</td><td>f64</td><td>f64</td><td>f64</td><td>f64</td><td>f64</td><td>f64</td><td>f64</td><td>f64</td><td>f64</td><td>f64</td><td>f64</td><td>f64</td><td>f64</td><td>f64</td><td>f64</td><td>f64</td><td>f64</td><td>f64</td><td>f64</td><td>f64</td><td>f64</td><td>f64</td><td>f64</td><td>f64</td><td>f64</td><td>f64</td><td>f64</td><td>f64</td><td>f64</td><td>&hellip;</td><td>f64</td><td>f64</td><td>f64</td><td>f64</td><td>f64</td><td>f64</td><td>f64</td><td>f64</td><td>f64</td><td>f64</td><td>f64</td><td>f64</td><td>f64</td><td>f64</td><td>f64</td><td>f64</td><td>f64</td><td>f64</td><td>f64</td><td>f64</td><td>f64</td><td>f64</td><td>f64</td><td>f64</td><td>f64</td><td>f64</td><td>f64</td><td>f64</td><td>f64</td><td>f64</td><td>f64</td><td>f64</td><td>f64</td><td>f64</td><td>f64</td><td>f64</td><td>f64</td></tr></thead><tbody><tr><td>&quot;2011-01-01 00:15:00&quot;</td><td>0.0</td><td>0.0</td><td>0.0</td><td>0.0</td><td>0.0</td><td>0.0</td><td>0.0</td><td>0.0</td><td>0.0</td><td>0.0</td><td>0.0</td><td>0.0</td><td>0.0</td><td>0.0</td><td>0.0</td><td>0.0</td><td>0.0</td><td>0.0</td><td>0.0</td><td>0.0</td><td>0.0</td><td>0.0</td><td>0.0</td><td>0.0</td><td>0.0</td><td>0.0</td><td>0.0</td><td>0.0</td><td>0.0</td><td>0.0</td><td>0.0</td><td>0.0</td><td>0.0</td><td>0.0</td><td>0.0</td><td>0.0</td><td>&hellip;</td><td>0.0</td><td>0.0</td><td>0.0</td><td>0.0</td><td>0.0</td><td>0.0</td><td>0.0</td><td>0.0</td><td>0.0</td><td>0.0</td><td>0.0</td><td>0.0</td><td>0.0</td><td>0.0</td><td>0.0</td><td>0.0</td><td>0.0</td><td>0.0</td><td>0.0</td><td>0.0</td><td>0.0</td><td>0.0</td><td>0.0</td><td>0.0</td><td>0.0</td><td>0.0</td><td>0.0</td><td>0.0</td><td>0.0</td><td>0.0</td><td>0.0</td><td>0.0</td><td>0.0</td><td>0.0</td><td>0.0</td><td>0.0</td><td>0.0</td></tr><tr><td>&quot;2011-01-01 00:30:00&quot;</td><td>0.0</td><td>0.0</td><td>0.0</td><td>0.0</td><td>0.0</td><td>0.0</td><td>0.0</td><td>0.0</td><td>0.0</td><td>0.0</td><td>0.0</td><td>0.0</td><td>0.0</td><td>0.0</td><td>0.0</td><td>0.0</td><td>0.0</td><td>0.0</td><td>0.0</td><td>0.0</td><td>0.0</td><td>0.0</td><td>0.0</td><td>0.0</td><td>0.0</td><td>0.0</td><td>0.0</td><td>0.0</td><td>0.0</td><td>0.0</td><td>0.0</td><td>0.0</td><td>0.0</td><td>0.0</td><td>0.0</td><td>0.0</td><td>&hellip;</td><td>0.0</td><td>0.0</td><td>0.0</td><td>0.0</td><td>0.0</td><td>0.0</td><td>0.0</td><td>0.0</td><td>0.0</td><td>0.0</td><td>0.0</td><td>0.0</td><td>0.0</td><td>0.0</td><td>0.0</td><td>0.0</td><td>0.0</td><td>0.0</td><td>0.0</td><td>0.0</td><td>0.0</td><td>0.0</td><td>0.0</td><td>0.0</td><td>0.0</td><td>0.0</td><td>0.0</td><td>0.0</td><td>0.0</td><td>0.0</td><td>0.0</td><td>0.0</td><td>0.0</td><td>0.0</td><td>0.0</td><td>0.0</td><td>0.0</td></tr><tr><td>&quot;2011-01-01 00:45:00&quot;</td><td>0.0</td><td>0.0</td><td>0.0</td><td>0.0</td><td>0.0</td><td>0.0</td><td>0.0</td><td>0.0</td><td>0.0</td><td>0.0</td><td>0.0</td><td>0.0</td><td>0.0</td><td>0.0</td><td>0.0</td><td>0.0</td><td>0.0</td><td>0.0</td><td>0.0</td><td>0.0</td><td>0.0</td><td>0.0</td><td>0.0</td><td>0.0</td><td>0.0</td><td>0.0</td><td>0.0</td><td>0.0</td><td>0.0</td><td>0.0</td><td>0.0</td><td>0.0</td><td>0.0</td><td>0.0</td><td>0.0</td><td>0.0</td><td>&hellip;</td><td>0.0</td><td>0.0</td><td>0.0</td><td>0.0</td><td>0.0</td><td>0.0</td><td>0.0</td><td>0.0</td><td>0.0</td><td>0.0</td><td>0.0</td><td>0.0</td><td>0.0</td><td>0.0</td><td>0.0</td><td>0.0</td><td>0.0</td><td>0.0</td><td>0.0</td><td>0.0</td><td>0.0</td><td>0.0</td><td>0.0</td><td>0.0</td><td>0.0</td><td>0.0</td><td>0.0</td><td>0.0</td><td>0.0</td><td>0.0</td><td>0.0</td><td>0.0</td><td>0.0</td><td>0.0</td><td>0.0</td><td>0.0</td><td>0.0</td></tr><tr><td>&quot;2011-01-01 01:00:00&quot;</td><td>0.0</td><td>0.0</td><td>0.0</td><td>0.0</td><td>0.0</td><td>0.0</td><td>0.0</td><td>0.0</td><td>0.0</td><td>0.0</td><td>0.0</td><td>0.0</td><td>0.0</td><td>0.0</td><td>0.0</td><td>0.0</td><td>0.0</td><td>0.0</td><td>0.0</td><td>0.0</td><td>0.0</td><td>0.0</td><td>0.0</td><td>0.0</td><td>0.0</td><td>0.0</td><td>0.0</td><td>0.0</td><td>0.0</td><td>0.0</td><td>0.0</td><td>0.0</td><td>0.0</td><td>0.0</td><td>0.0</td><td>0.0</td><td>&hellip;</td><td>0.0</td><td>0.0</td><td>0.0</td><td>0.0</td><td>0.0</td><td>0.0</td><td>0.0</td><td>0.0</td><td>0.0</td><td>0.0</td><td>0.0</td><td>0.0</td><td>0.0</td><td>0.0</td><td>0.0</td><td>0.0</td><td>0.0</td><td>0.0</td><td>0.0</td><td>0.0</td><td>0.0</td><td>0.0</td><td>0.0</td><td>0.0</td><td>0.0</td><td>0.0</td><td>0.0</td><td>0.0</td><td>0.0</td><td>0.0</td><td>0.0</td><td>0.0</td><td>0.0</td><td>0.0</td><td>0.0</td><td>0.0</td><td>0.0</td></tr><tr><td>&quot;2011-01-01 01:15:00&quot;</td><td>0.0</td><td>0.0</td><td>0.0</td><td>0.0</td><td>0.0</td><td>0.0</td><td>0.0</td><td>0.0</td><td>0.0</td><td>0.0</td><td>0.0</td><td>0.0</td><td>0.0</td><td>0.0</td><td>0.0</td><td>0.0</td><td>0.0</td><td>0.0</td><td>0.0</td><td>0.0</td><td>0.0</td><td>0.0</td><td>0.0</td><td>0.0</td><td>0.0</td><td>0.0</td><td>0.0</td><td>0.0</td><td>0.0</td><td>0.0</td><td>0.0</td><td>0.0</td><td>0.0</td><td>0.0</td><td>0.0</td><td>0.0</td><td>&hellip;</td><td>0.0</td><td>0.0</td><td>0.0</td><td>0.0</td><td>0.0</td><td>0.0</td><td>0.0</td><td>0.0</td><td>0.0</td><td>0.0</td><td>0.0</td><td>0.0</td><td>0.0</td><td>0.0</td><td>0.0</td><td>0.0</td><td>0.0</td><td>0.0</td><td>0.0</td><td>0.0</td><td>0.0</td><td>0.0</td><td>0.0</td><td>0.0</td><td>0.0</td><td>0.0</td><td>0.0</td><td>0.0</td><td>0.0</td><td>0.0</td><td>0.0</td><td>0.0</td><td>0.0</td><td>0.0</td><td>0.0</td><td>0.0</td><td>0.0</td></tr></tbody></table></div>"
            ]
          },
          "metadata": {},
          "execution_count": 201
        }
      ]
    },
    {
      "cell_type": "markdown",
      "source": [
        "# Data Preprocessing"
      ],
      "metadata": {
        "id": "-F-xeA3AEycr"
      }
    },
    {
      "cell_type": "code",
      "source": [
        "df = df.rename({\n",
        "    \"\": \"Timestamp\"\n",
        "})\n",
        "\n",
        "df.head()"
      ],
      "metadata": {
        "colab": {
          "base_uri": "https://localhost:8080/",
          "height": 448
        },
        "id": "qzNucF6YA_-K",
        "outputId": "26fe91ca-5c62-4e12-c2c3-0ffc8ba4bb5e"
      },
      "execution_count": null,
      "outputs": [
        {
          "output_type": "execute_result",
          "data": {
            "text/plain": [
              "shape: (5, 371)\n",
              "┌─────────────────────┬────────┬────────┬────────┬───┬────────┬────────┬────────┬────────┐\n",
              "│ Timestamp           ┆ MT_001 ┆ MT_002 ┆ MT_003 ┆ … ┆ MT_367 ┆ MT_368 ┆ MT_369 ┆ MT_370 │\n",
              "│ ---                 ┆ ---    ┆ ---    ┆ ---    ┆   ┆ ---    ┆ ---    ┆ ---    ┆ ---    │\n",
              "│ str                 ┆ f64    ┆ f64    ┆ f64    ┆   ┆ f64    ┆ f64    ┆ f64    ┆ f64    │\n",
              "╞═════════════════════╪════════╪════════╪════════╪═══╪════════╪════════╪════════╪════════╡\n",
              "│ 2011-01-01 00:15:00 ┆ 0.0    ┆ 0.0    ┆ 0.0    ┆ … ┆ 0.0    ┆ 0.0    ┆ 0.0    ┆ 0.0    │\n",
              "│ 2011-01-01 00:30:00 ┆ 0.0    ┆ 0.0    ┆ 0.0    ┆ … ┆ 0.0    ┆ 0.0    ┆ 0.0    ┆ 0.0    │\n",
              "│ 2011-01-01 00:45:00 ┆ 0.0    ┆ 0.0    ┆ 0.0    ┆ … ┆ 0.0    ┆ 0.0    ┆ 0.0    ┆ 0.0    │\n",
              "│ 2011-01-01 01:00:00 ┆ 0.0    ┆ 0.0    ┆ 0.0    ┆ … ┆ 0.0    ┆ 0.0    ┆ 0.0    ┆ 0.0    │\n",
              "│ 2011-01-01 01:15:00 ┆ 0.0    ┆ 0.0    ┆ 0.0    ┆ … ┆ 0.0    ┆ 0.0    ┆ 0.0    ┆ 0.0    │\n",
              "└─────────────────────┴────────┴────────┴────────┴───┴────────┴────────┴────────┴────────┘"
            ],
            "text/html": [
              "<div><style>\n",
              ".dataframe > thead > tr,\n",
              ".dataframe > tbody > tr {\n",
              "  text-align: right;\n",
              "  white-space: pre-wrap;\n",
              "}\n",
              "</style>\n",
              "<small>shape: (5, 371)</small><table border=\"1\" class=\"dataframe\"><thead><tr><th>Timestamp</th><th>MT_001</th><th>MT_002</th><th>MT_003</th><th>MT_004</th><th>MT_005</th><th>MT_006</th><th>MT_007</th><th>MT_008</th><th>MT_009</th><th>MT_010</th><th>MT_011</th><th>MT_012</th><th>MT_013</th><th>MT_014</th><th>MT_015</th><th>MT_016</th><th>MT_017</th><th>MT_018</th><th>MT_019</th><th>MT_020</th><th>MT_021</th><th>MT_022</th><th>MT_023</th><th>MT_024</th><th>MT_025</th><th>MT_026</th><th>MT_027</th><th>MT_028</th><th>MT_029</th><th>MT_030</th><th>MT_031</th><th>MT_032</th><th>MT_033</th><th>MT_034</th><th>MT_035</th><th>MT_036</th><th>&hellip;</th><th>MT_334</th><th>MT_335</th><th>MT_336</th><th>MT_337</th><th>MT_338</th><th>MT_339</th><th>MT_340</th><th>MT_341</th><th>MT_342</th><th>MT_343</th><th>MT_344</th><th>MT_345</th><th>MT_346</th><th>MT_347</th><th>MT_348</th><th>MT_349</th><th>MT_350</th><th>MT_351</th><th>MT_352</th><th>MT_353</th><th>MT_354</th><th>MT_355</th><th>MT_356</th><th>MT_357</th><th>MT_358</th><th>MT_359</th><th>MT_360</th><th>MT_361</th><th>MT_362</th><th>MT_363</th><th>MT_364</th><th>MT_365</th><th>MT_366</th><th>MT_367</th><th>MT_368</th><th>MT_369</th><th>MT_370</th></tr><tr><td>str</td><td>f64</td><td>f64</td><td>f64</td><td>f64</td><td>f64</td><td>f64</td><td>f64</td><td>f64</td><td>f64</td><td>f64</td><td>f64</td><td>f64</td><td>f64</td><td>f64</td><td>f64</td><td>f64</td><td>f64</td><td>f64</td><td>f64</td><td>f64</td><td>f64</td><td>f64</td><td>f64</td><td>f64</td><td>f64</td><td>f64</td><td>f64</td><td>f64</td><td>f64</td><td>f64</td><td>f64</td><td>f64</td><td>f64</td><td>f64</td><td>f64</td><td>f64</td><td>&hellip;</td><td>f64</td><td>f64</td><td>f64</td><td>f64</td><td>f64</td><td>f64</td><td>f64</td><td>f64</td><td>f64</td><td>f64</td><td>f64</td><td>f64</td><td>f64</td><td>f64</td><td>f64</td><td>f64</td><td>f64</td><td>f64</td><td>f64</td><td>f64</td><td>f64</td><td>f64</td><td>f64</td><td>f64</td><td>f64</td><td>f64</td><td>f64</td><td>f64</td><td>f64</td><td>f64</td><td>f64</td><td>f64</td><td>f64</td><td>f64</td><td>f64</td><td>f64</td><td>f64</td></tr></thead><tbody><tr><td>&quot;2011-01-01 00:15:00&quot;</td><td>0.0</td><td>0.0</td><td>0.0</td><td>0.0</td><td>0.0</td><td>0.0</td><td>0.0</td><td>0.0</td><td>0.0</td><td>0.0</td><td>0.0</td><td>0.0</td><td>0.0</td><td>0.0</td><td>0.0</td><td>0.0</td><td>0.0</td><td>0.0</td><td>0.0</td><td>0.0</td><td>0.0</td><td>0.0</td><td>0.0</td><td>0.0</td><td>0.0</td><td>0.0</td><td>0.0</td><td>0.0</td><td>0.0</td><td>0.0</td><td>0.0</td><td>0.0</td><td>0.0</td><td>0.0</td><td>0.0</td><td>0.0</td><td>&hellip;</td><td>0.0</td><td>0.0</td><td>0.0</td><td>0.0</td><td>0.0</td><td>0.0</td><td>0.0</td><td>0.0</td><td>0.0</td><td>0.0</td><td>0.0</td><td>0.0</td><td>0.0</td><td>0.0</td><td>0.0</td><td>0.0</td><td>0.0</td><td>0.0</td><td>0.0</td><td>0.0</td><td>0.0</td><td>0.0</td><td>0.0</td><td>0.0</td><td>0.0</td><td>0.0</td><td>0.0</td><td>0.0</td><td>0.0</td><td>0.0</td><td>0.0</td><td>0.0</td><td>0.0</td><td>0.0</td><td>0.0</td><td>0.0</td><td>0.0</td></tr><tr><td>&quot;2011-01-01 00:30:00&quot;</td><td>0.0</td><td>0.0</td><td>0.0</td><td>0.0</td><td>0.0</td><td>0.0</td><td>0.0</td><td>0.0</td><td>0.0</td><td>0.0</td><td>0.0</td><td>0.0</td><td>0.0</td><td>0.0</td><td>0.0</td><td>0.0</td><td>0.0</td><td>0.0</td><td>0.0</td><td>0.0</td><td>0.0</td><td>0.0</td><td>0.0</td><td>0.0</td><td>0.0</td><td>0.0</td><td>0.0</td><td>0.0</td><td>0.0</td><td>0.0</td><td>0.0</td><td>0.0</td><td>0.0</td><td>0.0</td><td>0.0</td><td>0.0</td><td>&hellip;</td><td>0.0</td><td>0.0</td><td>0.0</td><td>0.0</td><td>0.0</td><td>0.0</td><td>0.0</td><td>0.0</td><td>0.0</td><td>0.0</td><td>0.0</td><td>0.0</td><td>0.0</td><td>0.0</td><td>0.0</td><td>0.0</td><td>0.0</td><td>0.0</td><td>0.0</td><td>0.0</td><td>0.0</td><td>0.0</td><td>0.0</td><td>0.0</td><td>0.0</td><td>0.0</td><td>0.0</td><td>0.0</td><td>0.0</td><td>0.0</td><td>0.0</td><td>0.0</td><td>0.0</td><td>0.0</td><td>0.0</td><td>0.0</td><td>0.0</td></tr><tr><td>&quot;2011-01-01 00:45:00&quot;</td><td>0.0</td><td>0.0</td><td>0.0</td><td>0.0</td><td>0.0</td><td>0.0</td><td>0.0</td><td>0.0</td><td>0.0</td><td>0.0</td><td>0.0</td><td>0.0</td><td>0.0</td><td>0.0</td><td>0.0</td><td>0.0</td><td>0.0</td><td>0.0</td><td>0.0</td><td>0.0</td><td>0.0</td><td>0.0</td><td>0.0</td><td>0.0</td><td>0.0</td><td>0.0</td><td>0.0</td><td>0.0</td><td>0.0</td><td>0.0</td><td>0.0</td><td>0.0</td><td>0.0</td><td>0.0</td><td>0.0</td><td>0.0</td><td>&hellip;</td><td>0.0</td><td>0.0</td><td>0.0</td><td>0.0</td><td>0.0</td><td>0.0</td><td>0.0</td><td>0.0</td><td>0.0</td><td>0.0</td><td>0.0</td><td>0.0</td><td>0.0</td><td>0.0</td><td>0.0</td><td>0.0</td><td>0.0</td><td>0.0</td><td>0.0</td><td>0.0</td><td>0.0</td><td>0.0</td><td>0.0</td><td>0.0</td><td>0.0</td><td>0.0</td><td>0.0</td><td>0.0</td><td>0.0</td><td>0.0</td><td>0.0</td><td>0.0</td><td>0.0</td><td>0.0</td><td>0.0</td><td>0.0</td><td>0.0</td></tr><tr><td>&quot;2011-01-01 01:00:00&quot;</td><td>0.0</td><td>0.0</td><td>0.0</td><td>0.0</td><td>0.0</td><td>0.0</td><td>0.0</td><td>0.0</td><td>0.0</td><td>0.0</td><td>0.0</td><td>0.0</td><td>0.0</td><td>0.0</td><td>0.0</td><td>0.0</td><td>0.0</td><td>0.0</td><td>0.0</td><td>0.0</td><td>0.0</td><td>0.0</td><td>0.0</td><td>0.0</td><td>0.0</td><td>0.0</td><td>0.0</td><td>0.0</td><td>0.0</td><td>0.0</td><td>0.0</td><td>0.0</td><td>0.0</td><td>0.0</td><td>0.0</td><td>0.0</td><td>&hellip;</td><td>0.0</td><td>0.0</td><td>0.0</td><td>0.0</td><td>0.0</td><td>0.0</td><td>0.0</td><td>0.0</td><td>0.0</td><td>0.0</td><td>0.0</td><td>0.0</td><td>0.0</td><td>0.0</td><td>0.0</td><td>0.0</td><td>0.0</td><td>0.0</td><td>0.0</td><td>0.0</td><td>0.0</td><td>0.0</td><td>0.0</td><td>0.0</td><td>0.0</td><td>0.0</td><td>0.0</td><td>0.0</td><td>0.0</td><td>0.0</td><td>0.0</td><td>0.0</td><td>0.0</td><td>0.0</td><td>0.0</td><td>0.0</td><td>0.0</td></tr><tr><td>&quot;2011-01-01 01:15:00&quot;</td><td>0.0</td><td>0.0</td><td>0.0</td><td>0.0</td><td>0.0</td><td>0.0</td><td>0.0</td><td>0.0</td><td>0.0</td><td>0.0</td><td>0.0</td><td>0.0</td><td>0.0</td><td>0.0</td><td>0.0</td><td>0.0</td><td>0.0</td><td>0.0</td><td>0.0</td><td>0.0</td><td>0.0</td><td>0.0</td><td>0.0</td><td>0.0</td><td>0.0</td><td>0.0</td><td>0.0</td><td>0.0</td><td>0.0</td><td>0.0</td><td>0.0</td><td>0.0</td><td>0.0</td><td>0.0</td><td>0.0</td><td>0.0</td><td>&hellip;</td><td>0.0</td><td>0.0</td><td>0.0</td><td>0.0</td><td>0.0</td><td>0.0</td><td>0.0</td><td>0.0</td><td>0.0</td><td>0.0</td><td>0.0</td><td>0.0</td><td>0.0</td><td>0.0</td><td>0.0</td><td>0.0</td><td>0.0</td><td>0.0</td><td>0.0</td><td>0.0</td><td>0.0</td><td>0.0</td><td>0.0</td><td>0.0</td><td>0.0</td><td>0.0</td><td>0.0</td><td>0.0</td><td>0.0</td><td>0.0</td><td>0.0</td><td>0.0</td><td>0.0</td><td>0.0</td><td>0.0</td><td>0.0</td><td>0.0</td></tr></tbody></table></div>"
            ]
          },
          "metadata": {},
          "execution_count": 202
        }
      ]
    },
    {
      "cell_type": "code",
      "source": [
        "selected_cols_df = df.select(\n",
        "    pl.col(\"Timestamp\").str.to_datetime().alias(\"ts\"),\n",
        "    pl.col(\"MT_001\").alias(\"value\")\n",
        ")\n",
        "\n",
        "selected_cols_df.head()"
      ],
      "metadata": {
        "colab": {
          "base_uri": "https://localhost:8080/",
          "height": 255
        },
        "id": "qA-jHAO1c-vT",
        "outputId": "56d18d19-958f-4f22-fecf-1dc9244963da"
      },
      "execution_count": null,
      "outputs": [
        {
          "output_type": "execute_result",
          "data": {
            "text/plain": [
              "shape: (5, 2)\n",
              "┌─────────────────────┬───────┐\n",
              "│ ts                  ┆ value │\n",
              "│ ---                 ┆ ---   │\n",
              "│ datetime[μs]        ┆ f64   │\n",
              "╞═════════════════════╪═══════╡\n",
              "│ 2011-01-01 00:15:00 ┆ 0.0   │\n",
              "│ 2011-01-01 00:30:00 ┆ 0.0   │\n",
              "│ 2011-01-01 00:45:00 ┆ 0.0   │\n",
              "│ 2011-01-01 01:00:00 ┆ 0.0   │\n",
              "│ 2011-01-01 01:15:00 ┆ 0.0   │\n",
              "└─────────────────────┴───────┘"
            ],
            "text/html": [
              "<div><style>\n",
              ".dataframe > thead > tr,\n",
              ".dataframe > tbody > tr {\n",
              "  text-align: right;\n",
              "  white-space: pre-wrap;\n",
              "}\n",
              "</style>\n",
              "<small>shape: (5, 2)</small><table border=\"1\" class=\"dataframe\"><thead><tr><th>ts</th><th>value</th></tr><tr><td>datetime[μs]</td><td>f64</td></tr></thead><tbody><tr><td>2011-01-01 00:15:00</td><td>0.0</td></tr><tr><td>2011-01-01 00:30:00</td><td>0.0</td></tr><tr><td>2011-01-01 00:45:00</td><td>0.0</td></tr><tr><td>2011-01-01 01:00:00</td><td>0.0</td></tr><tr><td>2011-01-01 01:15:00</td><td>0.0</td></tr></tbody></table></div>"
            ]
          },
          "metadata": {},
          "execution_count": 203
        }
      ]
    },
    {
      "cell_type": "code",
      "source": [
        "downscaling_frequency = \"1d\"\n",
        "downscaled_df = selected_cols_df.group_by_dynamic(\"ts\", every=downscaling_frequency).agg(pl.col(\"value\").sum())\n",
        "\n",
        "print(\"Dataset size:\", len(downscaled_df))\n",
        "print()\n",
        "\n",
        "downscaled_df.head()"
      ],
      "metadata": {
        "colab": {
          "base_uri": "https://localhost:8080/",
          "height": 289
        },
        "id": "j_70axJ8W8_p",
        "outputId": "1e62b5ea-6e83-4c5f-ce80-3f46564eaf2a"
      },
      "execution_count": null,
      "outputs": [
        {
          "output_type": "stream",
          "name": "stdout",
          "text": [
            "Dataset size: 1462\n",
            "\n"
          ]
        },
        {
          "output_type": "execute_result",
          "data": {
            "text/plain": [
              "shape: (5, 2)\n",
              "┌─────────────────────┬───────┐\n",
              "│ ts                  ┆ value │\n",
              "│ ---                 ┆ ---   │\n",
              "│ datetime[μs]        ┆ f64   │\n",
              "╞═════════════════════╪═══════╡\n",
              "│ 2011-01-01 00:00:00 ┆ 0.0   │\n",
              "│ 2011-01-02 00:00:00 ┆ 0.0   │\n",
              "│ 2011-01-03 00:00:00 ┆ 0.0   │\n",
              "│ 2011-01-04 00:00:00 ┆ 0.0   │\n",
              "│ 2011-01-05 00:00:00 ┆ 0.0   │\n",
              "└─────────────────────┴───────┘"
            ],
            "text/html": [
              "<div><style>\n",
              ".dataframe > thead > tr,\n",
              ".dataframe > tbody > tr {\n",
              "  text-align: right;\n",
              "  white-space: pre-wrap;\n",
              "}\n",
              "</style>\n",
              "<small>shape: (5, 2)</small><table border=\"1\" class=\"dataframe\"><thead><tr><th>ts</th><th>value</th></tr><tr><td>datetime[μs]</td><td>f64</td></tr></thead><tbody><tr><td>2011-01-01 00:00:00</td><td>0.0</td></tr><tr><td>2011-01-02 00:00:00</td><td>0.0</td></tr><tr><td>2011-01-03 00:00:00</td><td>0.0</td></tr><tr><td>2011-01-04 00:00:00</td><td>0.0</td></tr><tr><td>2011-01-05 00:00:00</td><td>0.0</td></tr></tbody></table></div>"
            ]
          },
          "metadata": {},
          "execution_count": 204
        }
      ]
    },
    {
      "cell_type": "code",
      "source": [
        "downscaled_df.null_count()"
      ],
      "metadata": {
        "colab": {
          "base_uri": "https://localhost:8080/",
          "height": 129
        },
        "id": "QM99HSzfsX2p",
        "outputId": "c6b74ea3-31f6-4d71-bb58-b2d3b410cc5d"
      },
      "execution_count": null,
      "outputs": [
        {
          "output_type": "execute_result",
          "data": {
            "text/plain": [
              "shape: (1, 2)\n",
              "┌─────┬───────┐\n",
              "│ ts  ┆ value │\n",
              "│ --- ┆ ---   │\n",
              "│ u32 ┆ u32   │\n",
              "╞═════╪═══════╡\n",
              "│ 0   ┆ 0     │\n",
              "└─────┴───────┘"
            ],
            "text/html": [
              "<div><style>\n",
              ".dataframe > thead > tr,\n",
              ".dataframe > tbody > tr {\n",
              "  text-align: right;\n",
              "  white-space: pre-wrap;\n",
              "}\n",
              "</style>\n",
              "<small>shape: (1, 2)</small><table border=\"1\" class=\"dataframe\"><thead><tr><th>ts</th><th>value</th></tr><tr><td>u32</td><td>u32</td></tr></thead><tbody><tr><td>0</td><td>0</td></tr></tbody></table></div>"
            ]
          },
          "metadata": {},
          "execution_count": 205
        }
      ]
    },
    {
      "cell_type": "code",
      "source": [
        "preprocessed_df = downscaled_df"
      ],
      "metadata": {
        "id": "ko1VsU5SvnQ1"
      },
      "execution_count": null,
      "outputs": []
    },
    {
      "cell_type": "markdown",
      "source": [
        "# Data Representation"
      ],
      "metadata": {
        "id": "XwGSFJosvjaN"
      }
    },
    {
      "cell_type": "code",
      "source": [
        "serie = preprocessed_df[\"value\"]"
      ],
      "metadata": {
        "id": "asmSjhtevYDF"
      },
      "execution_count": null,
      "outputs": []
    },
    {
      "cell_type": "code",
      "source": [
        "scaler = MinMaxScaler()\n",
        "\n",
        "scaled_serie = scaler.fit_transform(serie.to_numpy().reshape(-1, 1)).flatten()\n",
        "scaled_serie[:5]"
      ],
      "metadata": {
        "colab": {
          "base_uri": "https://localhost:8080/"
        },
        "id": "fIWScesIoaUt",
        "outputId": "3cf87547-f278-46f6-a1e6-a4fa7576cfa0"
      },
      "execution_count": null,
      "outputs": [
        {
          "output_type": "execute_result",
          "data": {
            "text/plain": [
              "array([0., 0., 0., 0., 0.])"
            ]
          },
          "metadata": {},
          "execution_count": 208
        }
      ]
    },
    {
      "cell_type": "code",
      "source": [
        "def create_forecast_serie_sets(serie, window_sizes):\n",
        "    serie_size = len(serie)\n",
        "    n_windows = len(window_sizes)\n",
        "    total_window_sizes = sum(window_sizes)\n",
        "\n",
        "    xs = [[] for i in range(n_windows)]\n",
        "\n",
        "    for i in range(serie_size - total_window_sizes):\n",
        "        window_low_idx = i\n",
        "        for x, window_size in zip(xs, window_sizes):\n",
        "            window_max_idx = window_low_idx + window_size\n",
        "            x.append(serie[window_low_idx:window_max_idx])\n",
        "            window_low_idx = window_max_idx\n",
        "\n",
        "    return [np.array(x) for x in xs]\n",
        "\n",
        "context_window_size = 5\n",
        "forecast_horizon = 1\n",
        "X, y = create_forecast_serie_sets(scaled_serie, (context_window_size, forecast_horizon))"
      ],
      "metadata": {
        "id": "wsjV8X1H5dHx"
      },
      "execution_count": null,
      "outputs": []
    },
    {
      "cell_type": "code",
      "source": [
        "print(\"Features dataset size:\", len(X))\n",
        "\n",
        "X"
      ],
      "metadata": {
        "colab": {
          "base_uri": "https://localhost:8080/"
        },
        "id": "zSigSY8x8hkO",
        "outputId": "192de047-cedb-4e96-cff3-adc1de86c347"
      },
      "execution_count": null,
      "outputs": [
        {
          "output_type": "stream",
          "name": "stdout",
          "text": [
            "Features dataset size: 1456\n"
          ]
        },
        {
          "output_type": "execute_result",
          "data": {
            "text/plain": [
              "array([[0.        , 0.        , 0.        , 0.        , 0.        ],\n",
              "       [0.        , 0.        , 0.        , 0.        , 0.        ],\n",
              "       [0.        , 0.        , 0.        , 0.        , 0.        ],\n",
              "       ...,\n",
              "       [0.10182371, 0.09042553, 0.12765957, 0.1268997 , 0.13601824],\n",
              "       [0.09042553, 0.12765957, 0.1268997 , 0.13601824, 0.14893617],\n",
              "       [0.12765957, 0.1268997 , 0.13601824, 0.14893617, 0.13905775]])"
            ]
          },
          "metadata": {},
          "execution_count": 210
        }
      ]
    },
    {
      "cell_type": "code",
      "source": [
        "print(\"Forecast dataset size:\", len(y))\n",
        "\n",
        "y"
      ],
      "metadata": {
        "colab": {
          "base_uri": "https://localhost:8080/"
        },
        "id": "ym9F_Akm982-",
        "outputId": "1b7dc672-610c-4079-91de-8b814e745802"
      },
      "execution_count": null,
      "outputs": [
        {
          "output_type": "stream",
          "name": "stdout",
          "text": [
            "Forecast dataset size: 1456\n"
          ]
        },
        {
          "output_type": "execute_result",
          "data": {
            "text/plain": [
              "array([[0.        ],\n",
              "       [0.        ],\n",
              "       [0.        ],\n",
              "       ...,\n",
              "       [0.14893617],\n",
              "       [0.13905775],\n",
              "       [0.13753799]])"
            ]
          },
          "metadata": {},
          "execution_count": 211
        }
      ]
    },
    {
      "cell_type": "code",
      "source": [
        "train_set_size = int(len(X) * 0.8)\n",
        "train_set_size"
      ],
      "metadata": {
        "colab": {
          "base_uri": "https://localhost:8080/"
        },
        "id": "U16LtWu-9_K2",
        "outputId": "43ccfcf9-0314-4b0b-aca0-608b61e4aa54"
      },
      "execution_count": null,
      "outputs": [
        {
          "output_type": "execute_result",
          "data": {
            "text/plain": [
              "1164"
            ]
          },
          "metadata": {},
          "execution_count": 212
        }
      ]
    },
    {
      "cell_type": "code",
      "source": [
        "X_train, y_train = X[:train_set_size], y[:train_set_size]\n",
        "X_test, y_test = X[train_set_size:], y[train_set_size:]"
      ],
      "metadata": {
        "id": "LijC6dML-rNA"
      },
      "execution_count": null,
      "outputs": []
    },
    {
      "cell_type": "markdown",
      "source": [
        "# Modelization"
      ],
      "metadata": {
        "id": "4fpiE0VR_CJ1"
      }
    },
    {
      "cell_type": "code",
      "source": [
        "from tensorflow.keras.models import Sequential\n",
        "from tensorflow.keras.layers import Input, Dense, LSTM"
      ],
      "metadata": {
        "id": "bHmisPWx_ED8"
      },
      "execution_count": null,
      "outputs": []
    },
    {
      "cell_type": "code",
      "source": [
        "forecast_horizon = 1\n",
        "lstm_n_units = 64"
      ],
      "metadata": {
        "id": "-ws6N2HJ_ukg"
      },
      "execution_count": null,
      "outputs": []
    },
    {
      "cell_type": "code",
      "source": [
        "model = Sequential([\n",
        "    Input((window_size, 1)),\n",
        "    LSTM(lstm_n_units),\n",
        "    Dense(forecast_horizon)\n",
        "])\n",
        "\n",
        "model.summary()"
      ],
      "metadata": {
        "colab": {
          "base_uri": "https://localhost:8080/",
          "height": 193
        },
        "id": "Qh9euh1F_Z-6",
        "outputId": "609d8e83-8f31-46fb-f28f-6529024ec816"
      },
      "execution_count": null,
      "outputs": [
        {
          "output_type": "display_data",
          "data": {
            "text/plain": [
              "\u001b[1mModel: \"sequential_2\"\u001b[0m\n"
            ],
            "text/html": [
              "<pre style=\"white-space:pre;overflow-x:auto;line-height:normal;font-family:Menlo,'DejaVu Sans Mono',consolas,'Courier New',monospace\"><span style=\"font-weight: bold\">Model: \"sequential_2\"</span>\n",
              "</pre>\n"
            ]
          },
          "metadata": {}
        },
        {
          "output_type": "display_data",
          "data": {
            "text/plain": [
              "┏━━━━━━━━━━━━━━━━━━━━━━━━━━━━━━━━━┳━━━━━━━━━━━━━━━━━━━━━━━━┳━━━━━━━━━━━━━━━┓\n",
              "┃\u001b[1m \u001b[0m\u001b[1mLayer (type)                   \u001b[0m\u001b[1m \u001b[0m┃\u001b[1m \u001b[0m\u001b[1mOutput Shape          \u001b[0m\u001b[1m \u001b[0m┃\u001b[1m \u001b[0m\u001b[1m      Param #\u001b[0m\u001b[1m \u001b[0m┃\n",
              "┡━━━━━━━━━━━━━━━━━━━━━━━━━━━━━━━━━╇━━━━━━━━━━━━━━━━━━━━━━━━╇━━━━━━━━━━━━━━━┩\n",
              "│ lstm_2 (\u001b[38;5;33mLSTM\u001b[0m)                   │ (\u001b[38;5;45mNone\u001b[0m, \u001b[38;5;34m64\u001b[0m)             │        \u001b[38;5;34m16,896\u001b[0m │\n",
              "├─────────────────────────────────┼────────────────────────┼───────────────┤\n",
              "│ dense_2 (\u001b[38;5;33mDense\u001b[0m)                 │ (\u001b[38;5;45mNone\u001b[0m, \u001b[38;5;34m1\u001b[0m)              │            \u001b[38;5;34m65\u001b[0m │\n",
              "└─────────────────────────────────┴────────────────────────┴───────────────┘\n"
            ],
            "text/html": [
              "<pre style=\"white-space:pre;overflow-x:auto;line-height:normal;font-family:Menlo,'DejaVu Sans Mono',consolas,'Courier New',monospace\">┏━━━━━━━━━━━━━━━━━━━━━━━━━━━━━━━━━┳━━━━━━━━━━━━━━━━━━━━━━━━┳━━━━━━━━━━━━━━━┓\n",
              "┃<span style=\"font-weight: bold\"> Layer (type)                    </span>┃<span style=\"font-weight: bold\"> Output Shape           </span>┃<span style=\"font-weight: bold\">       Param # </span>┃\n",
              "┡━━━━━━━━━━━━━━━━━━━━━━━━━━━━━━━━━╇━━━━━━━━━━━━━━━━━━━━━━━━╇━━━━━━━━━━━━━━━┩\n",
              "│ lstm_2 (<span style=\"color: #0087ff; text-decoration-color: #0087ff\">LSTM</span>)                   │ (<span style=\"color: #00d7ff; text-decoration-color: #00d7ff\">None</span>, <span style=\"color: #00af00; text-decoration-color: #00af00\">64</span>)             │        <span style=\"color: #00af00; text-decoration-color: #00af00\">16,896</span> │\n",
              "├─────────────────────────────────┼────────────────────────┼───────────────┤\n",
              "│ dense_2 (<span style=\"color: #0087ff; text-decoration-color: #0087ff\">Dense</span>)                 │ (<span style=\"color: #00d7ff; text-decoration-color: #00d7ff\">None</span>, <span style=\"color: #00af00; text-decoration-color: #00af00\">1</span>)              │            <span style=\"color: #00af00; text-decoration-color: #00af00\">65</span> │\n",
              "└─────────────────────────────────┴────────────────────────┴───────────────┘\n",
              "</pre>\n"
            ]
          },
          "metadata": {}
        },
        {
          "output_type": "display_data",
          "data": {
            "text/plain": [
              "\u001b[1m Total params: \u001b[0m\u001b[38;5;34m16,961\u001b[0m (66.25 KB)\n"
            ],
            "text/html": [
              "<pre style=\"white-space:pre;overflow-x:auto;line-height:normal;font-family:Menlo,'DejaVu Sans Mono',consolas,'Courier New',monospace\"><span style=\"font-weight: bold\"> Total params: </span><span style=\"color: #00af00; text-decoration-color: #00af00\">16,961</span> (66.25 KB)\n",
              "</pre>\n"
            ]
          },
          "metadata": {}
        },
        {
          "output_type": "display_data",
          "data": {
            "text/plain": [
              "\u001b[1m Trainable params: \u001b[0m\u001b[38;5;34m16,961\u001b[0m (66.25 KB)\n"
            ],
            "text/html": [
              "<pre style=\"white-space:pre;overflow-x:auto;line-height:normal;font-family:Menlo,'DejaVu Sans Mono',consolas,'Courier New',monospace\"><span style=\"font-weight: bold\"> Trainable params: </span><span style=\"color: #00af00; text-decoration-color: #00af00\">16,961</span> (66.25 KB)\n",
              "</pre>\n"
            ]
          },
          "metadata": {}
        },
        {
          "output_type": "display_data",
          "data": {
            "text/plain": [
              "\u001b[1m Non-trainable params: \u001b[0m\u001b[38;5;34m0\u001b[0m (0.00 B)\n"
            ],
            "text/html": [
              "<pre style=\"white-space:pre;overflow-x:auto;line-height:normal;font-family:Menlo,'DejaVu Sans Mono',consolas,'Courier New',monospace\"><span style=\"font-weight: bold\"> Non-trainable params: </span><span style=\"color: #00af00; text-decoration-color: #00af00\">0</span> (0.00 B)\n",
              "</pre>\n"
            ]
          },
          "metadata": {}
        }
      ]
    },
    {
      "cell_type": "code",
      "source": [
        "model.compile(optimizer=\"adam\", loss=\"mse\", metrics=[\"mae\"])\n",
        "\n",
        "fitting_batch_size = 32\n",
        "history = model.fit(X_train, y_train, epochs=10, validation_split=0.1, batch_size=fitting_batch_size)"
      ],
      "metadata": {
        "colab": {
          "base_uri": "https://localhost:8080/"
        },
        "id": "OXOhwbub_cgv",
        "outputId": "5ca7b94d-d76f-40ab-ad78-461789fc618d"
      },
      "execution_count": null,
      "outputs": [
        {
          "output_type": "stream",
          "name": "stdout",
          "text": [
            "Epoch 1/10\n",
            "\u001b[1m33/33\u001b[0m \u001b[32m━━━━━━━━━━━━━━━━━━━━\u001b[0m\u001b[37m\u001b[0m \u001b[1m3s\u001b[0m 18ms/step - loss: 0.0688 - mae: 0.1624 - val_loss: 0.0118 - val_mae: 0.0664\n",
            "Epoch 2/10\n",
            "\u001b[1m33/33\u001b[0m \u001b[32m━━━━━━━━━━━━━━━━━━━━\u001b[0m\u001b[37m\u001b[0m \u001b[1m0s\u001b[0m 7ms/step - loss: 0.0258 - mae: 0.0904 - val_loss: 0.0112 - val_mae: 0.0464\n",
            "Epoch 3/10\n",
            "\u001b[1m33/33\u001b[0m \u001b[32m━━━━━━━━━━━━━━━━━━━━\u001b[0m\u001b[37m\u001b[0m \u001b[1m0s\u001b[0m 7ms/step - loss: 0.0227 - mae: 0.0777 - val_loss: 0.0103 - val_mae: 0.0477\n",
            "Epoch 4/10\n",
            "\u001b[1m33/33\u001b[0m \u001b[32m━━━━━━━━━━━━━━━━━━━━\u001b[0m\u001b[37m\u001b[0m \u001b[1m0s\u001b[0m 7ms/step - loss: 0.0169 - mae: 0.0668 - val_loss: 0.0092 - val_mae: 0.0491\n",
            "Epoch 5/10\n",
            "\u001b[1m33/33\u001b[0m \u001b[32m━━━━━━━━━━━━━━━━━━━━\u001b[0m\u001b[37m\u001b[0m \u001b[1m0s\u001b[0m 7ms/step - loss: 0.0185 - mae: 0.0702 - val_loss: 0.0104 - val_mae: 0.0450\n",
            "Epoch 6/10\n",
            "\u001b[1m33/33\u001b[0m \u001b[32m━━━━━━━━━━━━━━━━━━━━\u001b[0m\u001b[37m\u001b[0m \u001b[1m0s\u001b[0m 8ms/step - loss: 0.0176 - mae: 0.0682 - val_loss: 0.0096 - val_mae: 0.0464\n",
            "Epoch 7/10\n",
            "\u001b[1m33/33\u001b[0m \u001b[32m━━━━━━━━━━━━━━━━━━━━\u001b[0m\u001b[37m\u001b[0m \u001b[1m0s\u001b[0m 12ms/step - loss: 0.0168 - mae: 0.0673 - val_loss: 0.0096 - val_mae: 0.0459\n",
            "Epoch 8/10\n",
            "\u001b[1m33/33\u001b[0m \u001b[32m━━━━━━━━━━━━━━━━━━━━\u001b[0m\u001b[37m\u001b[0m \u001b[1m1s\u001b[0m 12ms/step - loss: 0.0163 - mae: 0.0676 - val_loss: 0.0077 - val_mae: 0.0447\n",
            "Epoch 9/10\n",
            "\u001b[1m33/33\u001b[0m \u001b[32m━━━━━━━━━━━━━━━━━━━━\u001b[0m\u001b[37m\u001b[0m \u001b[1m0s\u001b[0m 13ms/step - loss: 0.0176 - mae: 0.0668 - val_loss: 0.0084 - val_mae: 0.0436\n",
            "Epoch 10/10\n",
            "\u001b[1m33/33\u001b[0m \u001b[32m━━━━━━━━━━━━━━━━━━━━\u001b[0m\u001b[37m\u001b[0m \u001b[1m1s\u001b[0m 11ms/step - loss: 0.0164 - mae: 0.0676 - val_loss: 0.0071 - val_mae: 0.0418\n"
          ]
        }
      ]
    },
    {
      "cell_type": "code",
      "source": [
        "import matplotlib.pyplot as plt\n",
        "\n",
        "plt.plot(history.history[\"mae\"])\n",
        "plt.plot(history.history[\"val_mae\"])\n",
        "plt.legend([\"mae\", \"val_mae\"])\n",
        "plt.xlabel(\"Epoch\")\n",
        "plt.ylabel(\"Mean Absolute Error\")\n",
        "plt.show()"
      ],
      "metadata": {
        "colab": {
          "base_uri": "https://localhost:8080/",
          "height": 449
        },
        "id": "F95XnNtsAxZq",
        "outputId": "a98ddb51-0cf6-4bb5-9319-21237b863c3b"
      },
      "execution_count": null,
      "outputs": [
        {
          "output_type": "display_data",
          "data": {
            "text/plain": [
              "<Figure size 640x480 with 1 Axes>"
            ],
            "image/png": "[encoded data removed]"
          },
          "metadata": {}
        }
      ]
    },
    {
      "cell_type": "markdown",
      "source": [
        "# Evaluation"
      ],
      "metadata": {
        "id": "Mvssrdn0Cn0j"
      }
    },
    {
      "cell_type": "code",
      "source": [
        "loss, mae = model.evaluate(X_test, y_test)\n",
        "\n",
        "print(\"Evaluation Loss:\", loss)\n",
        "print(\"Evaluation MAE:\", mae)"
      ],
      "metadata": {
        "colab": {
          "base_uri": "https://localhost:8080/"
        },
        "id": "M3UklqvaCmfM",
        "outputId": "e27d8ca5-35ac-427a-f736-f42609b28cae"
      },
      "execution_count": null,
      "outputs": [
        {
          "output_type": "stream",
          "name": "stdout",
          "text": [
            "\u001b[1m10/10\u001b[0m \u001b[32m━━━━━━━━━━━━━━━━━━━━\u001b[0m\u001b[37m\u001b[0m \u001b[1m0s\u001b[0m 8ms/step - loss: 0.0263 - mae: 0.1001 \n",
            "Evaluation Loss: 0.021096989512443542\n",
            "Evaluation MAE: 0.08199875056743622\n"
          ]
        }
      ]
    },
    {
      "cell_type": "code",
      "source": [
        "y_pred = model.predict(X_test)"
      ],
      "metadata": {
        "colab": {
          "base_uri": "https://localhost:8080/"
        },
        "id": "HPaL4ziaE7qE",
        "outputId": "916618b7-0dac-4497-c068-4910a610c900"
      },
      "execution_count": null,
      "outputs": [
        {
          "output_type": "stream",
          "name": "stdout",
          "text": [
            "\u001b[1m10/10\u001b[0m \u001b[32m━━━━━━━━━━━━━━━━━━━━\u001b[0m\u001b[37m\u001b[0m \u001b[1m1s\u001b[0m 32ms/step\n"
          ]
        }
      ]
    },
    {
      "cell_type": "code",
      "source": [
        "y_pred_inv = scaler.inverse_transform(y_pred).flatten()\n",
        "y_test_inv = scaler.inverse_transform(y_test).flatten()\n",
        "\n",
        "print((len(y_pred_inv), len(y_test_inv)))\n",
        "\n",
        "plt.figure(figsize=(15,5))\n",
        "plt.plot(y_test_inv, label=\"Actual\")\n",
        "plt.plot(y_pred_inv, label=\"Predicted\")\n",
        "plt.xlabel(\"Timestamps (Days)\")\n",
        "plt.ylabel(\"MT_001\")\n",
        "plt.legend()\n",
        "plt.show()"
      ],
      "metadata": {
        "colab": {
          "base_uri": "https://localhost:8080/",
          "height": 428
        },
        "id": "4BfHB2yLGYnQ",
        "outputId": "22ba95cb-3c59-4148-d3bd-20a6f885cd0a"
      },
      "execution_count": null,
      "outputs": [
        {
          "output_type": "stream",
          "name": "stdout",
          "text": [
            "(292, 292)\n"
          ]
        },
        {
          "output_type": "display_data",
          "data": {
            "text/plain": [
              "<Figure size 1500x500 with 1 Axes>"
            ],
            "image/png": "[encoded data removed]"
          },
          "metadata": {}
        }
      ]
    },
    {
      "cell_type": "markdown",
      "source": [
        "# Model Backup"
      ],
      "metadata": {
        "id": "kAAKydrfNnwr"
      }
    },
    {
      "cell_type": "code",
      "source": [
        "from google.colab import drive\n",
        "drive.mount('/gdrive')"
      ],
      "metadata": {
        "colab": {
          "base_uri": "https://localhost:8080/"
        },
        "id": "XK1le7TROLGg",
        "outputId": "d99f04a4-2efe-41a2-bcfc-66180d9f7b06"
      },
      "execution_count": null,
      "outputs": [
        {
          "output_type": "stream",
          "name": "stdout",
          "text": [
            "Drive already mounted at /gdrive; to attempt to forcibly remount, call drive.mount(\"/gdrive\", force_remount=True).\n"
          ]
        }
      ]
    },
    {
      "cell_type": "code",
      "source": [
        "backup_folder_path = \"/gdrive/MyDrive/ESTIAM/E5/AI-ML-Model-Design/TimeSeries-Forecasting/backup\""
      ],
      "metadata": {
        "id": "k00Zl0H8NrFf"
      },
      "execution_count": null,
      "outputs": []
    },
    {
      "cell_type": "code",
      "source": [
        "!mkdir -p \"$backup_folder_path\""
      ],
      "metadata": {
        "id": "IlYYGW6aRsYY"
      },
      "execution_count": null,
      "outputs": []
    },
    {
      "cell_type": "code",
      "source": [
        "scaler_file_path = f\"{backup_folder_path}/scaler.joblib\"\n",
        "model_file_path = f\"{backup_folder_path}/model.keras\""
      ],
      "metadata": {
        "id": "c8rV-e8mTCGX"
      },
      "execution_count": null,
      "outputs": []
    },
    {
      "cell_type": "code",
      "source": [
        "import joblib\n",
        "\n",
        "joblib.dump(scaler, scaler_file_path)\n",
        "model.save(model_file_path)"
      ],
      "metadata": {
        "id": "BR-sbtFCSc5v"
      },
      "execution_count": null,
      "outputs": []
    },
    {
      "cell_type": "code",
      "source": [
        "!ls \"$backup_folder_path\""
      ],
      "metadata": {
        "colab": {
          "base_uri": "https://localhost:8080/"
        },
        "id": "16N1a1CAVAUy",
        "outputId": "de78182d-1878-46e1-8cd3-a85fd78baa57"
      },
      "execution_count": null,
      "outputs": [
        {
          "output_type": "stream",
          "name": "stdout",
          "text": [
            "model.keras  scaler.joblib\n"
          ]
        }
      ]
    },
    {
      "cell_type": "markdown",
      "source": [
        "# Model Loading & Manual Testing"
      ],
      "metadata": {
        "id": "U6_sNV2mVHpt"
      }
    },
    {
      "cell_type": "markdown",
      "source": [
        "## Loading"
      ],
      "metadata": {
        "id": "eZ1N-Kr3ZZ8k"
      }
    },
    {
      "cell_type": "code",
      "source": [
        "from tensorflow import keras\n",
        "\n",
        "loaded_scaler = joblib.load(scaler_file_path)\n",
        "loaded_model = keras.models.load_model(model_file_path)"
      ],
      "metadata": {
        "id": "0Vhh71oFVcOp"
      },
      "execution_count": null,
      "outputs": []
    },
    {
      "cell_type": "code",
      "source": [
        "loaded_model.summary()"
      ],
      "metadata": {
        "colab": {
          "base_uri": "https://localhost:8080/",
          "height": 209
        },
        "id": "0HZWrDMsXgq_",
        "outputId": "7d4fc415-135f-48a3-9eb9-c3362848e558"
      },
      "execution_count": null,
      "outputs": [
        {
          "output_type": "display_data",
          "data": {
            "text/plain": [
              "\u001b[1mModel: \"sequential_2\"\u001b[0m\n"
            ],
            "text/html": [
              "<pre style=\"white-space:pre;overflow-x:auto;line-height:normal;font-family:Menlo,'DejaVu Sans Mono',consolas,'Courier New',monospace\"><span style=\"font-weight: bold\">Model: \"sequential_2\"</span>\n",
              "</pre>\n"
            ]
          },
          "metadata": {}
        },
        {
          "output_type": "display_data",
          "data": {
            "text/plain": [
              "┏━━━━━━━━━━━━━━━━━━━━━━━━━━━━━━━━━┳━━━━━━━━━━━━━━━━━━━━━━━━┳━━━━━━━━━━━━━━━┓\n",
              "┃\u001b[1m \u001b[0m\u001b[1mLayer (type)                   \u001b[0m\u001b[1m \u001b[0m┃\u001b[1m \u001b[0m\u001b[1mOutput Shape          \u001b[0m\u001b[1m \u001b[0m┃\u001b[1m \u001b[0m\u001b[1m      Param #\u001b[0m\u001b[1m \u001b[0m┃\n",
              "┡━━━━━━━━━━━━━━━━━━━━━━━━━━━━━━━━━╇━━━━━━━━━━━━━━━━━━━━━━━━╇━━━━━━━━━━━━━━━┩\n",
              "│ lstm_2 (\u001b[38;5;33mLSTM\u001b[0m)                   │ (\u001b[38;5;45mNone\u001b[0m, \u001b[38;5;34m64\u001b[0m)             │        \u001b[38;5;34m16,896\u001b[0m │\n",
              "├─────────────────────────────────┼────────────────────────┼───────────────┤\n",
              "│ dense_2 (\u001b[38;5;33mDense\u001b[0m)                 │ (\u001b[38;5;45mNone\u001b[0m, \u001b[38;5;34m1\u001b[0m)              │            \u001b[38;5;34m65\u001b[0m │\n",
              "└─────────────────────────────────┴────────────────────────┴───────────────┘\n"
            ],
            "text/html": [
              "<pre style=\"white-space:pre;overflow-x:auto;line-height:normal;font-family:Menlo,'DejaVu Sans Mono',consolas,'Courier New',monospace\">┏━━━━━━━━━━━━━━━━━━━━━━━━━━━━━━━━━┳━━━━━━━━━━━━━━━━━━━━━━━━┳━━━━━━━━━━━━━━━┓\n",
              "┃<span style=\"font-weight: bold\"> Layer (type)                    </span>┃<span style=\"font-weight: bold\"> Output Shape           </span>┃<span style=\"font-weight: bold\">       Param # </span>┃\n",
              "┡━━━━━━━━━━━━━━━━━━━━━━━━━━━━━━━━━╇━━━━━━━━━━━━━━━━━━━━━━━━╇━━━━━━━━━━━━━━━┩\n",
              "│ lstm_2 (<span style=\"color: #0087ff; text-decoration-color: #0087ff\">LSTM</span>)                   │ (<span style=\"color: #00d7ff; text-decoration-color: #00d7ff\">None</span>, <span style=\"color: #00af00; text-decoration-color: #00af00\">64</span>)             │        <span style=\"color: #00af00; text-decoration-color: #00af00\">16,896</span> │\n",
              "├─────────────────────────────────┼────────────────────────┼───────────────┤\n",
              "│ dense_2 (<span style=\"color: #0087ff; text-decoration-color: #0087ff\">Dense</span>)                 │ (<span style=\"color: #00d7ff; text-decoration-color: #00d7ff\">None</span>, <span style=\"color: #00af00; text-decoration-color: #00af00\">1</span>)              │            <span style=\"color: #00af00; text-decoration-color: #00af00\">65</span> │\n",
              "└─────────────────────────────────┴────────────────────────┴───────────────┘\n",
              "</pre>\n"
            ]
          },
          "metadata": {}
        },
        {
          "output_type": "display_data",
          "data": {
            "text/plain": [
              "\u001b[1m Total params: \u001b[0m\u001b[38;5;34m50,885\u001b[0m (198.77 KB)\n"
            ],
            "text/html": [
              "<pre style=\"white-space:pre;overflow-x:auto;line-height:normal;font-family:Menlo,'DejaVu Sans Mono',consolas,'Courier New',monospace\"><span style=\"font-weight: bold\"> Total params: </span><span style=\"color: #00af00; text-decoration-color: #00af00\">50,885</span> (198.77 KB)\n",
              "</pre>\n"
            ]
          },
          "metadata": {}
        },
        {
          "output_type": "display_data",
          "data": {
            "text/plain": [
              "\u001b[1m Trainable params: \u001b[0m\u001b[38;5;34m16,961\u001b[0m (66.25 KB)\n"
            ],
            "text/html": [
              "<pre style=\"white-space:pre;overflow-x:auto;line-height:normal;font-family:Menlo,'DejaVu Sans Mono',consolas,'Courier New',monospace\"><span style=\"font-weight: bold\"> Trainable params: </span><span style=\"color: #00af00; text-decoration-color: #00af00\">16,961</span> (66.25 KB)\n",
              "</pre>\n"
            ]
          },
          "metadata": {}
        },
        {
          "output_type": "display_data",
          "data": {
            "text/plain": [
              "\u001b[1m Non-trainable params: \u001b[0m\u001b[38;5;34m0\u001b[0m (0.00 B)\n"
            ],
            "text/html": [
              "<pre style=\"white-space:pre;overflow-x:auto;line-height:normal;font-family:Menlo,'DejaVu Sans Mono',consolas,'Courier New',monospace\"><span style=\"font-weight: bold\"> Non-trainable params: </span><span style=\"color: #00af00; text-decoration-color: #00af00\">0</span> (0.00 B)\n",
              "</pre>\n"
            ]
          },
          "metadata": {}
        },
        {
          "output_type": "display_data",
          "data": {
            "text/plain": [
              "\u001b[1m Optimizer params: \u001b[0m\u001b[38;5;34m33,924\u001b[0m (132.52 KB)\n"
            ],
            "text/html": [
              "<pre style=\"white-space:pre;overflow-x:auto;line-height:normal;font-family:Menlo,'DejaVu Sans Mono',consolas,'Courier New',monospace\"><span style=\"font-weight: bold\"> Optimizer params: </span><span style=\"color: #00af00; text-decoration-color: #00af00\">33,924</span> (132.52 KB)\n",
              "</pre>\n"
            ]
          },
          "metadata": {}
        }
      ]
    },
    {
      "cell_type": "markdown",
      "source": [
        "## Testing"
      ],
      "metadata": {
        "id": "0SvOgAwlZdoS"
      }
    },
    {
      "cell_type": "markdown",
      "source": [
        "Select sampling data"
      ],
      "metadata": {
        "id": "QYvUSG5Rycbc"
      }
    },
    {
      "cell_type": "code",
      "source": [
        "n_preds = 10\n",
        "sample_data = serie[-(n_preds + context_window_size):]\n",
        "sample_data"
      ],
      "metadata": {
        "colab": {
          "base_uri": "https://localhost:8080/",
          "height": 443
        },
        "id": "_ow_qipiXzMO",
        "outputId": "a312a3ef-30fd-4155-f094-4d449009ccbe"
      },
      "execution_count": null,
      "outputs": [
        {
          "output_type": "execute_result",
          "data": {
            "text/plain": [
              "shape: (15,)\n",
              "Series: 'value' [f64]\n",
              "[\n",
              "\t214.467005\n",
              "\t237.309645\n",
              "\t107.86802\n",
              "\t86.294416\n",
              "\t238.57868\n",
              "\t…\n",
              "\t227.15736\n",
              "\t248.730964\n",
              "\t232.233503\n",
              "\t229.695431\n",
              "\t2.538071\n",
              "]"
            ],
            "text/html": [
              "<div><style>\n",
              ".dataframe > thead > tr,\n",
              ".dataframe > tbody > tr {\n",
              "  text-align: right;\n",
              "  white-space: pre-wrap;\n",
              "}\n",
              "</style>\n",
              "<small>shape: (15,)</small><table border=\"1\" class=\"dataframe\"><thead><tr><th>value</th></tr><tr><td>f64</td></tr></thead><tbody><tr><td>214.467005</td></tr><tr><td>237.309645</td></tr><tr><td>107.86802</td></tr><tr><td>86.294416</td></tr><tr><td>238.57868</td></tr><tr><td>&hellip;</td></tr><tr><td>227.15736</td></tr><tr><td>248.730964</td></tr><tr><td>232.233503</td></tr><tr><td>229.695431</td></tr><tr><td>2.538071</td></tr></tbody></table></div>"
            ]
          },
          "metadata": {},
          "execution_count": 230
        }
      ]
    },
    {
      "cell_type": "markdown",
      "source": [
        "Scale data with scaler"
      ],
      "metadata": {
        "id": "-OCDqqE4yeks"
      }
    },
    {
      "cell_type": "code",
      "source": [
        "scaled_sample_data = loaded_scaler.transform(sample_data.to_numpy().reshape(-1, 1)).flatten()\n",
        "scaled_sample_data"
      ],
      "metadata": {
        "colab": {
          "base_uri": "https://localhost:8080/"
        },
        "id": "y7nzLcoFaHtb",
        "outputId": "f13b27b8-626d-4798-9f9b-ac44438af8fe"
      },
      "execution_count": null,
      "outputs": [
        {
          "output_type": "execute_result",
          "data": {
            "text/plain": [
              "array([0.12841945, 0.14209726, 0.06458967, 0.05167173, 0.14285714,\n",
              "       0.14969605, 0.10182371, 0.09042553, 0.12765957, 0.1268997 ,\n",
              "       0.13601824, 0.14893617, 0.13905775, 0.13753799, 0.00151976])"
            ]
          },
          "metadata": {},
          "execution_count": 231
        }
      ]
    },
    {
      "cell_type": "markdown",
      "source": [
        "Format data to comply with model's expected input"
      ],
      "metadata": {
        "id": "kfg8oUO8yhfF"
      }
    },
    {
      "cell_type": "code",
      "source": [
        "(input,) = create_forecast_serie_sets(scaled_sample_data, (context_window_size,))\n",
        "\n",
        "input.shape"
      ],
      "metadata": {
        "colab": {
          "base_uri": "https://localhost:8080/"
        },
        "id": "4DZfM3Raj_ec",
        "outputId": "d04c3446-974d-4ab5-f893-33f450cc965b"
      },
      "execution_count": null,
      "outputs": [
        {
          "output_type": "execute_result",
          "data": {
            "text/plain": [
              "(10, 5)"
            ]
          },
          "metadata": {},
          "execution_count": 232
        }
      ]
    },
    {
      "cell_type": "markdown",
      "source": [
        "Predict with model"
      ],
      "metadata": {
        "id": "-d5pUi6Sy5Yp"
      }
    },
    {
      "cell_type": "code",
      "source": [
        "y_pred = loaded_model.predict(input)"
      ],
      "metadata": {
        "colab": {
          "base_uri": "https://localhost:8080/"
        },
        "id": "a73Rsj3WbaxZ",
        "outputId": "23fd5c29-b618-47e4-cbaf-ebeb57a1ea72"
      },
      "execution_count": null,
      "outputs": [
        {
          "output_type": "stream",
          "name": "stdout",
          "text": [
            "\u001b[1m1/1\u001b[0m \u001b[32m━━━━━━━━━━━━━━━━━━━━\u001b[0m\u001b[37m\u001b[0m \u001b[1m0s\u001b[0m 203ms/step\n"
          ]
        }
      ]
    },
    {
      "cell_type": "markdown",
      "source": [
        "Display predicted value"
      ],
      "metadata": {
        "id": "uMjd7CKRy-eW"
      }
    },
    {
      "cell_type": "code",
      "source": [
        "y_pred"
      ],
      "metadata": {
        "colab": {
          "base_uri": "https://localhost:8080/"
        },
        "id": "4d-yDgqadBUY",
        "outputId": "b826ea33-8a53-4d92-ea6c-b8ec2ad68fce"
      },
      "execution_count": null,
      "outputs": [
        {
          "output_type": "execute_result",
          "data": {
            "text/plain": [
              "array([[0.11612168],\n",
              "       [0.13040867],\n",
              "       [0.12612033],\n",
              "       [0.12150446],\n",
              "       [0.12904277],\n",
              "       [0.13097364],\n",
              "       [0.13561173],\n",
              "       [0.1452327 ],\n",
              "       [0.14924765],\n",
              "       [0.14956155]], dtype=float32)"
            ]
          },
          "metadata": {},
          "execution_count": 234
        }
      ]
    },
    {
      "cell_type": "markdown",
      "source": [
        "Display unscaled prediction"
      ],
      "metadata": {
        "id": "gdmsOvbMzm0o"
      }
    },
    {
      "cell_type": "code",
      "source": [
        "predicted = scaler.inverse_transform(y_pred).flatten()\n",
        "predicted"
      ],
      "metadata": {
        "colab": {
          "base_uri": "https://localhost:8080/"
        },
        "id": "5p30yC4J1SFv",
        "outputId": "6c19954a-73dd-4380-adc5-94d0c77ddfe9"
      },
      "execution_count": null,
      "outputs": [
        {
          "output_type": "execute_result",
          "data": {
            "text/plain": [
              "array([193.9291 , 217.78911, 210.62735, 202.91862, 215.50798, 218.73262,\n",
              "       226.47847, 242.54599, 249.25114, 249.77539], dtype=float32)"
            ]
          },
          "metadata": {},
          "execution_count": 235
        }
      ]
    },
    {
      "cell_type": "code",
      "source": [
        "expected = serie[-n_preds:].to_numpy()\n",
        "\n",
        "print((len(y_pred_inv), len(y_test_inv)))\n",
        "\n",
        "plt.figure(figsize=(15,5))\n",
        "plt.plot(expected, label=\"Actual\")\n",
        "plt.plot(predicted, label=\"Predicted\")\n",
        "plt.xlabel(\"Timestamps (Days)\")\n",
        "plt.ylabel(\"MT_001\")\n",
        "plt.legend()\n",
        "plt.show()"
      ],
      "metadata": {
        "colab": {
          "base_uri": "https://localhost:8080/",
          "height": 431
        },
        "id": "_9QZbemS0PBr",
        "outputId": "6de8735e-fd7a-4198-ed3b-bb8a5514c390"
      },
      "execution_count": null,
      "outputs": [
        {
          "output_type": "stream",
          "name": "stdout",
          "text": [
            "(292, 292)\n"
          ]
        },
        {
          "output_type": "display_data",
          "data": {
            "text/plain": [
              "<Figure size 1500x500 with 1 Axes>"
            ],
            "image/png": "[encoded data removed]"
          },
          "metadata": {}
        }
      ]
    }
  ]
}