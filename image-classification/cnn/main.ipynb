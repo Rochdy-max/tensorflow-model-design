{
  "nbformat": 4,
  "nbformat_minor": 0,
  "metadata": {
    "colab": {
      "provenance": [],
      "authorship_tag": "ABX9TyOeycevSuFvOHv2JyN2IfA3"
    },
    "kernelspec": {
      "name": "python3",
      "display_name": "Python 3"
    },
    "language_info": {
      "name": "python"
    }
  },
  "cells": [
    {
      "cell_type": "markdown",
      "source": [
        "# Data Collection"
      ],
      "metadata": {
        "id": "tCXk8N3NaDk6"
      }
    },
    {
      "cell_type": "code",
      "execution_count": null,
      "metadata": {
        "colab": {
          "base_uri": "https://localhost:8080/"
        },
        "id": "i8akGYtMZ_Mq",
        "outputId": "c5400557-0bff-4879-cfcd-2d42f0734805"
      },
      "outputs": [
        {
          "output_type": "stream",
          "name": "stdout",
          "text": [
            "Path to dataset files: /kaggle/input/food-image-classification-dataset\n",
            "'Food Classification dataset'\n"
          ]
        }
      ],
      "source": [
        "import kagglehub\n",
        "\n",
        "# Download latest version\n",
        "path = kagglehub.dataset_download(\"harishkumardatalab/food-image-classification-dataset\")\n",
        "\n",
        "print(\"Path to dataset files:\", path)\n",
        "\n",
        "!ls {path}"
      ]
    },
    {
      "cell_type": "code",
      "source": [
        "!ls \"{path}/Food Classification dataset\""
      ],
      "metadata": {
        "colab": {
          "base_uri": "https://localhost:8080/"
        },
        "id": "W9xussLmatvn",
        "outputId": "e9ac11eb-a217-4e03-9ebe-c12bba8806c6"
      },
      "execution_count": null,
      "outputs": [
        {
          "output_type": "stream",
          "name": "stdout",
          "text": [
            " apple_pie\t chicken_curry\t   Fries\t  kulfi         pizza\n",
            "'Baked Potato'\t chole_bhature\t  'Hot Dog'\t  masala_dosa   samosa\n",
            " burger\t\t'Crispy Chicken'   ice_cream\t  momos         Sandwich\n",
            " butter_naan\t dal_makhani\t   idli\t\t  omelette      sushi\n",
            " chai\t\t dhokla\t\t   jalebi\t  paani_puri    Taco\n",
            " chapati\t Donut\t\t   kaathi_rolls   pakode        Taquito\n",
            " cheesecake\t fried_rice\t   kadai_paneer   pav_bhaji\n"
          ]
        }
      ]
    },
    {
      "cell_type": "code",
      "source": [
        "from pathlib import Path\n",
        "\n",
        "base_dir_path = f\"{path}/Food Classification dataset\"\n",
        "base_dir = Path(base_dir_path)\n",
        "\n",
        "for item in base_dir.iterdir():\n",
        "    print(len(list(item.iterdir())), \"files in\", item)"
      ],
      "metadata": {
        "colab": {
          "base_uri": "https://localhost:8080/"
        },
        "id": "driQHmOLb0D7",
        "outputId": "8a832cb8-a44a-4aa3-b9fa-f494e40d9d84"
      },
      "execution_count": null,
      "outputs": [
        {
          "output_type": "stream",
          "name": "stdout",
          "text": [
            "323 files in /kaggle/input/food-image-classification-dataset/Food Classification dataset/momos\n",
            "245 files in /kaggle/input/food-image-classification-dataset/Food Classification dataset/dhokla\n",
            "279 files in /kaggle/input/food-image-classification-dataset/Food Classification dataset/kaathi_rolls\n",
            "376 files in /kaggle/input/food-image-classification-dataset/Food Classification dataset/chole_bhature\n",
            "273 files in /kaggle/input/food-image-classification-dataset/Food Classification dataset/masala_dosa\n",
            "1500 files in /kaggle/input/food-image-classification-dataset/Food Classification dataset/Donut\n",
            "1500 files in /kaggle/input/food-image-classification-dataset/Food Classification dataset/Sandwich\n",
            "1548 files in /kaggle/input/food-image-classification-dataset/Food Classification dataset/Hot Dog\n",
            "295 files in /kaggle/input/food-image-classification-dataset/Food Classification dataset/dal_makhani\n",
            "331 files in /kaggle/input/food-image-classification-dataset/Food Classification dataset/burger\n",
            "1000 files in /kaggle/input/food-image-classification-dataset/Food Classification dataset/omelette\n",
            "1500 files in /kaggle/input/food-image-classification-dataset/Food Classification dataset/Crispy Chicken\n",
            "1000 files in /kaggle/input/food-image-classification-dataset/Food Classification dataset/cheesecake\n",
            "1500 files in /kaggle/input/food-image-classification-dataset/Food Classification dataset/Fries\n",
            "344 files in /kaggle/input/food-image-classification-dataset/Food Classification dataset/chai\n",
            "1000 files in /kaggle/input/food-image-classification-dataset/Food Classification dataset/chicken_curry\n",
            "327 files in /kaggle/input/food-image-classification-dataset/Food Classification dataset/chapati\n",
            "144 files in /kaggle/input/food-image-classification-dataset/Food Classification dataset/paani_puri\n",
            "305 files in /kaggle/input/food-image-classification-dataset/Food Classification dataset/pav_bhaji\n",
            "269 files in /kaggle/input/food-image-classification-dataset/Food Classification dataset/pakode\n",
            "1000 files in /kaggle/input/food-image-classification-dataset/Food Classification dataset/ice_cream\n",
            "1500 files in /kaggle/input/food-image-classification-dataset/Food Classification dataset/Baked Potato\n",
            "302 files in /kaggle/input/food-image-classification-dataset/Food Classification dataset/idli\n",
            "288 files in /kaggle/input/food-image-classification-dataset/Food Classification dataset/jalebi\n",
            "1500 files in /kaggle/input/food-image-classification-dataset/Food Classification dataset/Taco\n",
            "334 files in /kaggle/input/food-image-classification-dataset/Food Classification dataset/kadai_paneer\n",
            "244 files in /kaggle/input/food-image-classification-dataset/Food Classification dataset/samosa\n",
            "1000 files in /kaggle/input/food-image-classification-dataset/Food Classification dataset/sushi\n",
            "1000 files in /kaggle/input/food-image-classification-dataset/Food Classification dataset/apple_pie\n",
            "307 files in /kaggle/input/food-image-classification-dataset/Food Classification dataset/butter_naan\n",
            "275 files in /kaggle/input/food-image-classification-dataset/Food Classification dataset/pizza\n",
            "1500 files in /kaggle/input/food-image-classification-dataset/Food Classification dataset/Taquito\n",
            "214 files in /kaggle/input/food-image-classification-dataset/Food Classification dataset/kulfi\n",
            "350 files in /kaggle/input/food-image-classification-dataset/Food Classification dataset/fried_rice\n"
          ]
        }
      ]
    },
    {
      "cell_type": "code",
      "source": [
        "import polars as pl\n",
        "import pandas as pd\n",
        "from tensorflow.keras.preprocessing.image import ImageDataGenerator, load_img, img_to_array"
      ],
      "metadata": {
        "id": "6HAGrx3_fprK"
      },
      "execution_count": null,
      "outputs": []
    },
    {
      "cell_type": "code",
      "source": [
        "image_shape = (64, 64)\n",
        "image_flow_batch_size = 32\n",
        "\n",
        "generator = ImageDataGenerator()\n",
        "\n",
        "image_flow = generator.flow_from_directory(\n",
        "    base_dir,\n",
        "    target_size=image_shape,\n",
        "    batch_size=image_flow_batch_size,\n",
        ")"
      ],
      "metadata": {
        "id": "XM3m1ciDdZX3",
        "colab": {
          "base_uri": "https://localhost:8080/"
        },
        "outputId": "6290d542-bed7-4cb7-cd56-329c977418b9"
      },
      "execution_count": null,
      "outputs": [
        {
          "output_type": "stream",
          "name": "stdout",
          "text": [
            "Found 23873 images belonging to 34 classes.\n"
          ]
        }
      ]
    },
    {
      "cell_type": "code",
      "source": [
        "image_flow.class_indices"
      ],
      "metadata": {
        "colab": {
          "base_uri": "https://localhost:8080/"
        },
        "id": "xsqPTmkQmuSR",
        "outputId": "cc2017fd-8733-4cc9-b5fa-820db4df8f58"
      },
      "execution_count": null,
      "outputs": [
        {
          "output_type": "execute_result",
          "data": {
            "text/plain": [
              "{'Baked Potato': 0,\n",
              " 'Crispy Chicken': 1,\n",
              " 'Donut': 2,\n",
              " 'Fries': 3,\n",
              " 'Hot Dog': 4,\n",
              " 'Sandwich': 5,\n",
              " 'Taco': 6,\n",
              " 'Taquito': 7,\n",
              " 'apple_pie': 8,\n",
              " 'burger': 9,\n",
              " 'butter_naan': 10,\n",
              " 'chai': 11,\n",
              " 'chapati': 12,\n",
              " 'cheesecake': 13,\n",
              " 'chicken_curry': 14,\n",
              " 'chole_bhature': 15,\n",
              " 'dal_makhani': 16,\n",
              " 'dhokla': 17,\n",
              " 'fried_rice': 18,\n",
              " 'ice_cream': 19,\n",
              " 'idli': 20,\n",
              " 'jalebi': 21,\n",
              " 'kaathi_rolls': 22,\n",
              " 'kadai_paneer': 23,\n",
              " 'kulfi': 24,\n",
              " 'masala_dosa': 25,\n",
              " 'momos': 26,\n",
              " 'omelette': 27,\n",
              " 'paani_puri': 28,\n",
              " 'pakode': 29,\n",
              " 'pav_bhaji': 30,\n",
              " 'pizza': 31,\n",
              " 'samosa': 32,\n",
              " 'sushi': 33}"
            ]
          },
          "metadata": {},
          "execution_count": 77
        }
      ]
    },
    {
      "cell_type": "code",
      "source": [
        "df = pl.DataFrame({\n",
        "    \"filepath\": image_flow.filepaths,\n",
        "    \"label\": image_flow.classes\n",
        "})\n",
        "\n",
        "print(\"Dataset size:\", len(df))\n",
        "df.head()"
      ],
      "metadata": {
        "colab": {
          "base_uri": "https://localhost:8080/",
          "height": 272
        },
        "id": "Gsjn7MeImV9x",
        "outputId": "5c1d2ed3-f06c-4950-ee92-9d52db015f94"
      },
      "execution_count": null,
      "outputs": [
        {
          "output_type": "stream",
          "name": "stdout",
          "text": [
            "Dataset size: 23873\n"
          ]
        },
        {
          "output_type": "execute_result",
          "data": {
            "text/plain": [
              "shape: (5, 2)\n",
              "┌─────────────────────────────────┬───────┐\n",
              "│ filepath                        ┆ label │\n",
              "│ ---                             ┆ ---   │\n",
              "│ str                             ┆ i32   │\n",
              "╞═════════════════════════════════╪═══════╡\n",
              "│ /kaggle/input/food-image-class… ┆ 0     │\n",
              "│ /kaggle/input/food-image-class… ┆ 0     │\n",
              "│ /kaggle/input/food-image-class… ┆ 0     │\n",
              "│ /kaggle/input/food-image-class… ┆ 0     │\n",
              "│ /kaggle/input/food-image-class… ┆ 0     │\n",
              "└─────────────────────────────────┴───────┘"
            ],
            "text/html": [
              "<div><style>\n",
              ".dataframe > thead > tr,\n",
              ".dataframe > tbody > tr {\n",
              "  text-align: right;\n",
              "  white-space: pre-wrap;\n",
              "}\n",
              "</style>\n",
              "<small>shape: (5, 2)</small><table border=\"1\" class=\"dataframe\"><thead><tr><th>filepath</th><th>label</th></tr><tr><td>str</td><td>i32</td></tr></thead><tbody><tr><td>&quot;/kaggle/input/food-image-class…</td><td>0</td></tr><tr><td>&quot;/kaggle/input/food-image-class…</td><td>0</td></tr><tr><td>&quot;/kaggle/input/food-image-class…</td><td>0</td></tr><tr><td>&quot;/kaggle/input/food-image-class…</td><td>0</td></tr><tr><td>&quot;/kaggle/input/food-image-class…</td><td>0</td></tr></tbody></table></div>"
            ]
          },
          "metadata": {},
          "execution_count": 78
        }
      ]
    },
    {
      "cell_type": "markdown",
      "source": [
        "# Data Preprocessing & Representation"
      ],
      "metadata": {
        "id": "Yd97zmNI0P_D"
      }
    },
    {
      "cell_type": "code",
      "source": [
        "import numpy as np\n",
        "from tensorflow.keras.utils import to_categorical\n",
        "from sklearn.model_selection import train_test_split"
      ],
      "metadata": {
        "id": "M7Ze0F_62-xp"
      },
      "execution_count": null,
      "outputs": []
    },
    {
      "cell_type": "code",
      "source": [
        "def get_array_img_from_filepath(filepath):\n",
        "    img = load_img(filepath, target_size=image_shape)\n",
        "    arr = img_to_array(img) / 255\n",
        "    return arr"
      ],
      "metadata": {
        "id": "pnVSRt6r5mvZ"
      },
      "execution_count": null,
      "outputs": []
    },
    {
      "cell_type": "code",
      "source": [
        "X = []\n",
        "\n",
        "counter = 0\n",
        "limit = 10\n",
        "for filepath in df[\"filepath\"]:\n",
        "    counter += 1\n",
        "    arr = get_array_img_from_filepath(filepath)\n",
        "    X.append(arr)\n",
        "X = np.array(X)"
      ],
      "metadata": {
        "colab": {
          "base_uri": "https://localhost:8080/"
        },
        "id": "lj6-aApHzAsO",
        "outputId": "67970164-2a64-40de-a00b-a2ce288cb4df"
      },
      "execution_count": null,
      "outputs": [
        {
          "output_type": "stream",
          "name": "stderr",
          "text": [
            "/usr/local/lib/python3.11/dist-packages/PIL/Image.py:1043: UserWarning: Palette images with Transparency expressed in bytes should be converted to RGBA images\n",
            "  warnings.warn(\n"
          ]
        }
      ]
    },
    {
      "cell_type": "code",
      "source": [
        "y = to_categorical(df[\"label\"])"
      ],
      "metadata": {
        "id": "fTfP3_h326V6"
      },
      "execution_count": null,
      "outputs": []
    },
    {
      "cell_type": "code",
      "source": [
        "X_train, X_test, y_train, y_test = train_test_split(X, y, test_size=0.2, random_state=42)"
      ],
      "metadata": {
        "id": "QWa9hya75EjN"
      },
      "execution_count": null,
      "outputs": []
    },
    {
      "cell_type": "code",
      "source": [
        "y_train[0]"
      ],
      "metadata": {
        "colab": {
          "base_uri": "https://localhost:8080/"
        },
        "id": "x8HY8kCC_3e_",
        "outputId": "9c7b2e3a-bb64-4d16-85d8-8ac9f3c94c92"
      },
      "execution_count": null,
      "outputs": [
        {
          "output_type": "execute_result",
          "data": {
            "text/plain": [
              "array([0., 0., 0., 0., 0., 1., 0., 0., 0., 0., 0., 0., 0., 0., 0., 0., 0.,\n",
              "       0., 0., 0., 0., 0., 0., 0., 0., 0., 0., 0., 0., 0., 0., 0., 0., 0.])"
            ]
          },
          "metadata": {},
          "execution_count": 84
        }
      ]
    },
    {
      "cell_type": "markdown",
      "source": [
        "# Modelization"
      ],
      "metadata": {
        "id": "uYpQkyp49Kse"
      }
    },
    {
      "cell_type": "code",
      "source": [
        "from tensorflow.keras.models import Sequential\n",
        "from tensorflow.keras.layers import Conv2D, Dense, Dropout, MaxPooling2D, Flatten\n",
        "from tensorflow.keras.callbacks import EarlyStopping"
      ],
      "metadata": {
        "id": "9F7hJv5E9nh7"
      },
      "execution_count": null,
      "outputs": []
    },
    {
      "cell_type": "code",
      "source": [
        "num_classes = len(image_flow.class_indices)\n",
        "\n",
        "model = Sequential([\n",
        "    Conv2D(32, (3, 3), activation=\"relu\"),\n",
        "    MaxPooling2D((2, 2)),\n",
        "\n",
        "    Conv2D(64, (3, 3), activation=\"relu\"),\n",
        "    MaxPooling2D((2, 2)),\n",
        "\n",
        "    Conv2D(128, (3, 3), activation=\"relu\"),\n",
        "    MaxPooling2D((2, 2)),\n",
        "\n",
        "    Flatten(),\n",
        "    Dense(64, activation=\"relu\"),\n",
        "    Dense(num_classes, activation=\"softmax\")\n",
        "])\n",
        "\n",
        "model.summary()"
      ],
      "metadata": {
        "colab": {
          "base_uri": "https://localhost:8080/",
          "height": 417
        },
        "id": "t2Ieyyfq-GeT",
        "outputId": "18e1fcbe-22be-4749-a238-e99d026eb6e0"
      },
      "execution_count": null,
      "outputs": [
        {
          "output_type": "display_data",
          "data": {
            "text/plain": [
              "\u001b[1mModel: \"sequential_1\"\u001b[0m\n"
            ],
            "text/html": [
              "<pre style=\"white-space:pre;overflow-x:auto;line-height:normal;font-family:Menlo,'DejaVu Sans Mono',consolas,'Courier New',monospace\"><span style=\"font-weight: bold\">Model: \"sequential_1\"</span>\n",
              "</pre>\n"
            ]
          },
          "metadata": {}
        },
        {
          "output_type": "display_data",
          "data": {
            "text/plain": [
              "┏━━━━━━━━━━━━━━━━━━━━━━━━━━━━━━━━━┳━━━━━━━━━━━━━━━━━━━━━━━━┳━━━━━━━━━━━━━━━┓\n",
              "┃\u001b[1m \u001b[0m\u001b[1mLayer (type)                   \u001b[0m\u001b[1m \u001b[0m┃\u001b[1m \u001b[0m\u001b[1mOutput Shape          \u001b[0m\u001b[1m \u001b[0m┃\u001b[1m \u001b[0m\u001b[1m      Param #\u001b[0m\u001b[1m \u001b[0m┃\n",
              "┡━━━━━━━━━━━━━━━━━━━━━━━━━━━━━━━━━╇━━━━━━━━━━━━━━━━━━━━━━━━╇━━━━━━━━━━━━━━━┩\n",
              "│ conv2d_3 (\u001b[38;5;33mConv2D\u001b[0m)               │ ?                      │   \u001b[38;5;34m0\u001b[0m (unbuilt) │\n",
              "├─────────────────────────────────┼────────────────────────┼───────────────┤\n",
              "│ max_pooling2d_3 (\u001b[38;5;33mMaxPooling2D\u001b[0m)  │ ?                      │             \u001b[38;5;34m0\u001b[0m │\n",
              "├─────────────────────────────────┼────────────────────────┼───────────────┤\n",
              "│ conv2d_4 (\u001b[38;5;33mConv2D\u001b[0m)               │ ?                      │   \u001b[38;5;34m0\u001b[0m (unbuilt) │\n",
              "├─────────────────────────────────┼────────────────────────┼───────────────┤\n",
              "│ max_pooling2d_4 (\u001b[38;5;33mMaxPooling2D\u001b[0m)  │ ?                      │             \u001b[38;5;34m0\u001b[0m │\n",
              "├─────────────────────────────────┼────────────────────────┼───────────────┤\n",
              "│ conv2d_5 (\u001b[38;5;33mConv2D\u001b[0m)               │ ?                      │   \u001b[38;5;34m0\u001b[0m (unbuilt) │\n",
              "├─────────────────────────────────┼────────────────────────┼───────────────┤\n",
              "│ max_pooling2d_5 (\u001b[38;5;33mMaxPooling2D\u001b[0m)  │ ?                      │             \u001b[38;5;34m0\u001b[0m │\n",
              "├─────────────────────────────────┼────────────────────────┼───────────────┤\n",
              "│ flatten_1 (\u001b[38;5;33mFlatten\u001b[0m)             │ ?                      │   \u001b[38;5;34m0\u001b[0m (unbuilt) │\n",
              "├─────────────────────────────────┼────────────────────────┼───────────────┤\n",
              "│ dense_2 (\u001b[38;5;33mDense\u001b[0m)                 │ ?                      │   \u001b[38;5;34m0\u001b[0m (unbuilt) │\n",
              "├─────────────────────────────────┼────────────────────────┼───────────────┤\n",
              "│ dense_3 (\u001b[38;5;33mDense\u001b[0m)                 │ ?                      │   \u001b[38;5;34m0\u001b[0m (unbuilt) │\n",
              "└─────────────────────────────────┴────────────────────────┴───────────────┘\n"
            ],
            "text/html": [
              "<pre style=\"white-space:pre;overflow-x:auto;line-height:normal;font-family:Menlo,'DejaVu Sans Mono',consolas,'Courier New',monospace\">┏━━━━━━━━━━━━━━━━━━━━━━━━━━━━━━━━━┳━━━━━━━━━━━━━━━━━━━━━━━━┳━━━━━━━━━━━━━━━┓\n",
              "┃<span style=\"font-weight: bold\"> Layer (type)                    </span>┃<span style=\"font-weight: bold\"> Output Shape           </span>┃<span style=\"font-weight: bold\">       Param # </span>┃\n",
              "┡━━━━━━━━━━━━━━━━━━━━━━━━━━━━━━━━━╇━━━━━━━━━━━━━━━━━━━━━━━━╇━━━━━━━━━━━━━━━┩\n",
              "│ conv2d_3 (<span style=\"color: #0087ff; text-decoration-color: #0087ff\">Conv2D</span>)               │ ?                      │   <span style=\"color: #00af00; text-decoration-color: #00af00\">0</span> (unbuilt) │\n",
              "├─────────────────────────────────┼────────────────────────┼───────────────┤\n",
              "│ max_pooling2d_3 (<span style=\"color: #0087ff; text-decoration-color: #0087ff\">MaxPooling2D</span>)  │ ?                      │             <span style=\"color: #00af00; text-decoration-color: #00af00\">0</span> │\n",
              "├─────────────────────────────────┼────────────────────────┼───────────────┤\n",
              "│ conv2d_4 (<span style=\"color: #0087ff; text-decoration-color: #0087ff\">Conv2D</span>)               │ ?                      │   <span style=\"color: #00af00; text-decoration-color: #00af00\">0</span> (unbuilt) │\n",
              "├─────────────────────────────────┼────────────────────────┼───────────────┤\n",
              "│ max_pooling2d_4 (<span style=\"color: #0087ff; text-decoration-color: #0087ff\">MaxPooling2D</span>)  │ ?                      │             <span style=\"color: #00af00; text-decoration-color: #00af00\">0</span> │\n",
              "├─────────────────────────────────┼────────────────────────┼───────────────┤\n",
              "│ conv2d_5 (<span style=\"color: #0087ff; text-decoration-color: #0087ff\">Conv2D</span>)               │ ?                      │   <span style=\"color: #00af00; text-decoration-color: #00af00\">0</span> (unbuilt) │\n",
              "├─────────────────────────────────┼────────────────────────┼───────────────┤\n",
              "│ max_pooling2d_5 (<span style=\"color: #0087ff; text-decoration-color: #0087ff\">MaxPooling2D</span>)  │ ?                      │             <span style=\"color: #00af00; text-decoration-color: #00af00\">0</span> │\n",
              "├─────────────────────────────────┼────────────────────────┼───────────────┤\n",
              "│ flatten_1 (<span style=\"color: #0087ff; text-decoration-color: #0087ff\">Flatten</span>)             │ ?                      │   <span style=\"color: #00af00; text-decoration-color: #00af00\">0</span> (unbuilt) │\n",
              "├─────────────────────────────────┼────────────────────────┼───────────────┤\n",
              "│ dense_2 (<span style=\"color: #0087ff; text-decoration-color: #0087ff\">Dense</span>)                 │ ?                      │   <span style=\"color: #00af00; text-decoration-color: #00af00\">0</span> (unbuilt) │\n",
              "├─────────────────────────────────┼────────────────────────┼───────────────┤\n",
              "│ dense_3 (<span style=\"color: #0087ff; text-decoration-color: #0087ff\">Dense</span>)                 │ ?                      │   <span style=\"color: #00af00; text-decoration-color: #00af00\">0</span> (unbuilt) │\n",
              "└─────────────────────────────────┴────────────────────────┴───────────────┘\n",
              "</pre>\n"
            ]
          },
          "metadata": {}
        },
        {
          "output_type": "display_data",
          "data": {
            "text/plain": [
              "\u001b[1m Total params: \u001b[0m\u001b[38;5;34m0\u001b[0m (0.00 B)\n"
            ],
            "text/html": [
              "<pre style=\"white-space:pre;overflow-x:auto;line-height:normal;font-family:Menlo,'DejaVu Sans Mono',consolas,'Courier New',monospace\"><span style=\"font-weight: bold\"> Total params: </span><span style=\"color: #00af00; text-decoration-color: #00af00\">0</span> (0.00 B)\n",
              "</pre>\n"
            ]
          },
          "metadata": {}
        },
        {
          "output_type": "display_data",
          "data": {
            "text/plain": [
              "\u001b[1m Trainable params: \u001b[0m\u001b[38;5;34m0\u001b[0m (0.00 B)\n"
            ],
            "text/html": [
              "<pre style=\"white-space:pre;overflow-x:auto;line-height:normal;font-family:Menlo,'DejaVu Sans Mono',consolas,'Courier New',monospace\"><span style=\"font-weight: bold\"> Trainable params: </span><span style=\"color: #00af00; text-decoration-color: #00af00\">0</span> (0.00 B)\n",
              "</pre>\n"
            ]
          },
          "metadata": {}
        },
        {
          "output_type": "display_data",
          "data": {
            "text/plain": [
              "\u001b[1m Non-trainable params: \u001b[0m\u001b[38;5;34m0\u001b[0m (0.00 B)\n"
            ],
            "text/html": [
              "<pre style=\"white-space:pre;overflow-x:auto;line-height:normal;font-family:Menlo,'DejaVu Sans Mono',consolas,'Courier New',monospace\"><span style=\"font-weight: bold\"> Non-trainable params: </span><span style=\"color: #00af00; text-decoration-color: #00af00\">0</span> (0.00 B)\n",
              "</pre>\n"
            ]
          },
          "metadata": {}
        }
      ]
    },
    {
      "cell_type": "code",
      "source": [
        "model.compile(\n",
        "    optimizer=\"adam\",\n",
        "    loss=\"categorical_crossentropy\",\n",
        "    metrics=[\"accuracy\"]\n",
        ")"
      ],
      "metadata": {
        "id": "ZFSs5EQxAywR"
      },
      "execution_count": null,
      "outputs": []
    },
    {
      "cell_type": "code",
      "source": [
        "X_train.shape, y_train.shape"
      ],
      "metadata": {
        "colab": {
          "base_uri": "https://localhost:8080/"
        },
        "id": "u_HT6dYTD3od",
        "outputId": "a2f90039-7f2a-4c01-8eff-136d71153496"
      },
      "execution_count": null,
      "outputs": [
        {
          "output_type": "execute_result",
          "data": {
            "text/plain": [
              "((19098, 64, 64, 3), (19098, 34))"
            ]
          },
          "metadata": {},
          "execution_count": 88
        }
      ]
    },
    {
      "cell_type": "code",
      "source": [
        "X_train.dtype, y_train.dtype"
      ],
      "metadata": {
        "colab": {
          "base_uri": "https://localhost:8080/"
        },
        "id": "UM8hDP0fEY_Q",
        "outputId": "c2918285-638a-4e50-af1f-57c14da3d679"
      },
      "execution_count": null,
      "outputs": [
        {
          "output_type": "execute_result",
          "data": {
            "text/plain": [
              "(dtype('float32'), dtype('float64'))"
            ]
          },
          "metadata": {},
          "execution_count": 89
        }
      ]
    },
    {
      "cell_type": "code",
      "source": [
        "fitting_batch_size = 32\n",
        "num_epochs = 10\n",
        "\n",
        "callbacks = [\n",
        "    EarlyStopping(\n",
        "        patience=2\n",
        "    )\n",
        "]\n",
        "\n",
        "history = model.fit(X_train, y_train, batch_size=fitting_batch_size, epochs=num_epochs, callbacks=callbacks, validation_split=0.1)"
      ],
      "metadata": {
        "colab": {
          "base_uri": "https://localhost:8080/"
        },
        "id": "UlZJc1vAA99W",
        "outputId": "6adfb4e8-fc20-48e5-c754-e2b58a995826"
      },
      "execution_count": null,
      "outputs": [
        {
          "output_type": "stream",
          "name": "stdout",
          "text": [
            "Epoch 1/10\n",
            "\u001b[1m538/538\u001b[0m \u001b[32m━━━━━━━━━━━━━━━━━━━━\u001b[0m\u001b[37m\u001b[0m \u001b[1m111s\u001b[0m 202ms/step - accuracy: 0.0916 - loss: 3.2318 - val_accuracy: 0.1707 - val_loss: 2.8851\n",
            "Epoch 2/10\n",
            "\u001b[1m538/538\u001b[0m \u001b[32m━━━━━━━━━━━━━━━━━━━━\u001b[0m\u001b[37m\u001b[0m \u001b[1m141s\u001b[0m 201ms/step - accuracy: 0.1943 - loss: 2.7634 - val_accuracy: 0.1948 - val_loss: 2.7704\n",
            "Epoch 3/10\n",
            "\u001b[1m538/538\u001b[0m \u001b[32m━━━━━━━━━━━━━━━━━━━━\u001b[0m\u001b[37m\u001b[0m \u001b[1m141s\u001b[0m 198ms/step - accuracy: 0.2511 - loss: 2.5919 - val_accuracy: 0.2518 - val_loss: 2.6065\n",
            "Epoch 4/10\n",
            "\u001b[1m538/538\u001b[0m \u001b[32m━━━━━━━━━━━━━━━━━━━━\u001b[0m\u001b[37m\u001b[0m \u001b[1m111s\u001b[0m 207ms/step - accuracy: 0.2968 - loss: 2.4439 - val_accuracy: 0.2801 - val_loss: 2.5174\n",
            "Epoch 5/10\n",
            "\u001b[1m538/538\u001b[0m \u001b[32m━━━━━━━━━━━━━━━━━━━━\u001b[0m\u001b[37m\u001b[0m \u001b[1m138s\u001b[0m 200ms/step - accuracy: 0.3373 - loss: 2.2700 - val_accuracy: 0.3340 - val_loss: 2.3763\n",
            "Epoch 6/10\n",
            "\u001b[1m538/538\u001b[0m \u001b[32m━━━━━━━━━━━━━━━━━━━━\u001b[0m\u001b[37m\u001b[0m \u001b[1m144s\u001b[0m 204ms/step - accuracy: 0.3945 - loss: 2.0772 - val_accuracy: 0.3487 - val_loss: 2.2351\n",
            "Epoch 7/10\n",
            "\u001b[1m538/538\u001b[0m \u001b[32m━━━━━━━━━━━━━━━━━━━━\u001b[0m\u001b[37m\u001b[0m \u001b[1m141s\u001b[0m 202ms/step - accuracy: 0.4209 - loss: 1.9492 - val_accuracy: 0.3524 - val_loss: 2.2644\n",
            "Epoch 8/10\n",
            "\u001b[1m538/538\u001b[0m \u001b[32m━━━━━━━━━━━━━━━━━━━━\u001b[0m\u001b[37m\u001b[0m \u001b[1m109s\u001b[0m 203ms/step - accuracy: 0.4666 - loss: 1.8149 - val_accuracy: 0.3890 - val_loss: 2.1739\n",
            "Epoch 9/10\n",
            "\u001b[1m538/538\u001b[0m \u001b[32m━━━━━━━━━━━━━━━━━━━━\u001b[0m\u001b[37m\u001b[0m \u001b[1m141s\u001b[0m 201ms/step - accuracy: 0.4981 - loss: 1.6904 - val_accuracy: 0.3817 - val_loss: 2.1856\n",
            "Epoch 10/10\n",
            "\u001b[1m538/538\u001b[0m \u001b[32m━━━━━━━━━━━━━━━━━━━━\u001b[0m\u001b[37m\u001b[0m \u001b[1m144s\u001b[0m 205ms/step - accuracy: 0.5198 - loss: 1.5781 - val_accuracy: 0.3686 - val_loss: 2.2651\n"
          ]
        }
      ]
    },
    {
      "cell_type": "code",
      "source": [
        "import matplotlib.pyplot as plt"
      ],
      "metadata": {
        "id": "CaWPVnb7CaPI"
      },
      "execution_count": null,
      "outputs": []
    },
    {
      "cell_type": "code",
      "source": [
        "plt.plot(history.history[\"accuracy\"])\n",
        "plt.plot(history.history[\"val_accuracy\"])\n",
        "plt.xlabel(\"Epoch\")\n",
        "plt.ylabel(\"Accuracy\")\n",
        "plt.legend([\"Train\", \"Validation\"])\n",
        "plt.show()"
      ],
      "metadata": {
        "colab": {
          "base_uri": "https://localhost:8080/",
          "height": 449
        },
        "id": "SdN2o490CgeC",
        "outputId": "a376ca38-0ffa-4231-d31c-9aca670318e3"
      },
      "execution_count": null,
      "outputs": [
        {
          "output_type": "display_data",
          "data": {
            "text/plain": [
              "<Figure size 640x480 with 1 Axes>"
            ],
            "image/png": "[encoded data removed]"
          },
          "metadata": {}
        }
      ]
    },
    {
      "cell_type": "markdown",
      "source": [
        "# Evaluation & Test"
      ],
      "metadata": {
        "id": "1vwGt_jLFlpR"
      }
    },
    {
      "cell_type": "code",
      "source": [
        "labels = list(image_flow.class_indices.keys())"
      ],
      "metadata": {
        "id": "4bb9CClKcb-C"
      },
      "execution_count": null,
      "outputs": []
    },
    {
      "cell_type": "code",
      "source": [
        "loss, accuracy = model.evaluate(X_test, y_test)\n",
        "\n",
        "print(f'Test Loss: {loss}')\n",
        "print(f'Test Accuracy: {accuracy}')"
      ],
      "metadata": {
        "colab": {
          "base_uri": "https://localhost:8080/"
        },
        "id": "A5edaizzFmt2",
        "outputId": "139c208f-8708-418a-bcc5-290f7e5a7735"
      },
      "execution_count": null,
      "outputs": [
        {
          "output_type": "stream",
          "name": "stdout",
          "text": [
            "\u001b[1m150/150\u001b[0m \u001b[32m━━━━━━━━━━━━━━━━━━━━\u001b[0m\u001b[37m\u001b[0m \u001b[1m14s\u001b[0m 96ms/step - accuracy: 0.3858 - loss: 2.1926\n",
            "Test Loss: 2.2183494567871094\n",
            "Test Accuracy: 0.38178011775016785\n"
          ]
        }
      ]
    },
    {
      "cell_type": "code",
      "source": [
        "sample_selector = lambda li: li[:10]\n",
        "\n",
        "samples = sample_selector(X_test)\n",
        "samples_labels = sample_selector(y_test)"
      ],
      "metadata": {
        "id": "NaGQJZsZPiRb"
      },
      "execution_count": null,
      "outputs": []
    },
    {
      "cell_type": "code",
      "source": [
        "y_pred_logits = model.predict(samples)"
      ],
      "metadata": {
        "id": "4HDU5N4-OUVU"
      },
      "execution_count": null,
      "outputs": []
    },
    {
      "cell_type": "code",
      "source": [
        "from sklearn.metrics import classification_report, ConfusionMatrixDisplay"
      ],
      "metadata": {
        "id": "ggk520sVQNwN"
      },
      "execution_count": null,
      "outputs": []
    },
    {
      "cell_type": "code",
      "source": [
        "y_pred = np.argmax(y_pred_logits, axis=1)\n",
        "y_true = np.argmax(samples_labels, axis=1)\n",
        "\n",
        "print(\"Classification Report\")\n",
        "print(classification_report(y_true, y_pred))"
      ],
      "metadata": {
        "colab": {
          "base_uri": "https://localhost:8080/"
        },
        "id": "chPzXZU0Qw30",
        "outputId": "bd2c535a-736d-47ee-ee63-f0c9cf3d2bd7"
      },
      "execution_count": null,
      "outputs": [
        {
          "output_type": "stream",
          "name": "stdout",
          "text": [
            "Classification Report\n",
            "              precision    recall  f1-score   support\n",
            "\n",
            "           0       0.50      0.50      0.50         2\n",
            "           2       0.25      1.00      0.40         1\n",
            "           3       1.00      1.00      1.00         1\n",
            "           5       0.00      0.00      0.00         1\n",
            "          10       0.00      0.00      0.00         1\n",
            "          14       1.00      1.00      1.00         1\n",
            "          15       0.00      0.00      0.00         1\n",
            "          19       0.00      0.00      0.00         1\n",
            "          20       0.00      0.00      0.00         0\n",
            "          25       1.00      1.00      1.00         1\n",
            "\n",
            "    accuracy                           0.50        10\n",
            "   macro avg       0.38      0.45      0.39        10\n",
            "weighted avg       0.42      0.50      0.44        10\n",
            "\n"
          ]
        },
        {
          "output_type": "stream",
          "name": "stderr",
          "text": [
            "/usr/local/lib/python3.11/dist-packages/sklearn/metrics/_classification.py:1565: UndefinedMetricWarning: Precision is ill-defined and being set to 0.0 in labels with no predicted samples. Use `zero_division` parameter to control this behavior.\n",
            "  _warn_prf(average, modifier, f\"{metric.capitalize()} is\", len(result))\n",
            "/usr/local/lib/python3.11/dist-packages/sklearn/metrics/_classification.py:1565: UndefinedMetricWarning: Recall is ill-defined and being set to 0.0 in labels with no true samples. Use `zero_division` parameter to control this behavior.\n",
            "  _warn_prf(average, modifier, f\"{metric.capitalize()} is\", len(result))\n",
            "/usr/local/lib/python3.11/dist-packages/sklearn/metrics/_classification.py:1565: UndefinedMetricWarning: Precision is ill-defined and being set to 0.0 in labels with no predicted samples. Use `zero_division` parameter to control this behavior.\n",
            "  _warn_prf(average, modifier, f\"{metric.capitalize()} is\", len(result))\n",
            "/usr/local/lib/python3.11/dist-packages/sklearn/metrics/_classification.py:1565: UndefinedMetricWarning: Recall is ill-defined and being set to 0.0 in labels with no true samples. Use `zero_division` parameter to control this behavior.\n",
            "  _warn_prf(average, modifier, f\"{metric.capitalize()} is\", len(result))\n",
            "/usr/local/lib/python3.11/dist-packages/sklearn/metrics/_classification.py:1565: UndefinedMetricWarning: Precision is ill-defined and being set to 0.0 in labels with no predicted samples. Use `zero_division` parameter to control this behavior.\n",
            "  _warn_prf(average, modifier, f\"{metric.capitalize()} is\", len(result))\n",
            "/usr/local/lib/python3.11/dist-packages/sklearn/metrics/_classification.py:1565: UndefinedMetricWarning: Recall is ill-defined and being set to 0.0 in labels with no true samples. Use `zero_division` parameter to control this behavior.\n",
            "  _warn_prf(average, modifier, f\"{metric.capitalize()} is\", len(result))\n"
          ]
        }
      ]
    },
    {
      "cell_type": "code",
      "source": [
        "_, axes = plt.subplots(figsize=(10, 10))\n",
        "ConfusionMatrixDisplay.from_predictions(y_true, y_pred, ax=axes)"
      ],
      "metadata": {
        "colab": {
          "base_uri": "https://localhost:8080/",
          "height": 838
        },
        "id": "Y7OEuYfORlos",
        "outputId": "ab0e5def-ef45-4371-f67f-6c327e157440"
      },
      "execution_count": null,
      "outputs": [
        {
          "data": {
            "text/plain": [
              "<sklearn.metrics._plot.confusion_matrix.ConfusionMatrixDisplay at 0x7a917a62e4d0>"
            ]
          },
          "execution_count": 98,
          "metadata": {},
          "output_type": "execute_result"
        },
        {
          "data": {
            "image/png": "[encoded data removed]",
            "text/plain": [
              "<Figure size 1000x1000 with 2 Axes>"
            ]
          },
          "metadata": {},
          "output_type": "display_data"
        }
      ]
    },
    {
      "cell_type": "code",
      "source": [
        "sample_img_paths = [\n",
        "    \"images/sushi-image.jpg\",\n",
        "]\n",
        "\n",
        "samples = np.array([\n",
        "    get_array_img_from_filepath(filepath)\n",
        "    for filepath in sample_img_paths\n",
        "])"
      ],
      "metadata": {
        "id": "Y09xW14BW3lv"
      },
      "execution_count": null,
      "outputs": []
    },
    {
      "cell_type": "code",
      "source": [
        "img_to_display_index = 0\n",
        "\n",
        "plt.imshow(samples[img_to_display_index])"
      ],
      "metadata": {
        "colab": {
          "base_uri": "https://localhost:8080/",
          "height": 449
        },
        "id": "PyanEGh_aklq",
        "outputId": "39b563ae-a017-4922-977d-4d1c51fd3ce5"
      },
      "execution_count": null,
      "outputs": [
        {
          "output_type": "execute_result",
          "data": {
            "text/plain": [
              "<matplotlib.image.AxesImage at 0x7a917a4ea3d0>"
            ]
          },
          "metadata": {},
          "execution_count": 100
        },
        {
          "output_type": "display_data",
          "data": {
            "text/plain": [
              "<Figure size 640x480 with 1 Axes>"
            ],
            "image/png": "[encoded data removed]"
          },
          "metadata": {}
        }
      ]
    },
    {
      "cell_type": "code",
      "source": [
        "pred_logits = model.predict(samples)\n",
        "preds = np.argmax(pred_logits, axis=1)\n",
        "\n",
        "for index, img_path in enumerate(sample_img_paths):\n",
        "    print(\"Image:\", index)\n",
        "    print(\"Filepath:\", img_path)\n",
        "    prediction = preds[index]\n",
        "    print(\"Predicted as:\", prediction, labels[prediction])\n",
        "    print()"
      ],
      "metadata": {
        "colab": {
          "base_uri": "https://localhost:8080/"
        },
        "id": "HIbG4kHwaxBC",
        "outputId": "f8e75a92-b075-4cd0-b2c5-f4759c432bd8"
      },
      "execution_count": null,
      "outputs": [
        {
          "output_type": "stream",
          "name": "stdout",
          "text": [
            "\u001b[1m1/1\u001b[0m \u001b[32m━━━━━━━━━━━━━━━━━━━━\u001b[0m\u001b[37m\u001b[0m \u001b[1m0s\u001b[0m 60ms/step\n",
            "Image: 0\n",
            "Filepath: images/sushi-image.jpg\n",
            "Predicted as: 6 Taco\n",
            "\n"
          ]
        }
      ]
    }
  ]
}