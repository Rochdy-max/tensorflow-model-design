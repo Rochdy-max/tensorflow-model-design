{
  "nbformat": 4,
  "nbformat_minor": 0,
  "metadata": {
    "colab": {
      "provenance": [],
      "authorship_tag": "ABX9TyPPJY4+zn6LQEZQyACNeH2V"
    },
    "kernelspec": {
      "name": "python3",
      "display_name": "Python 3"
    },
    "language_info": {
      "name": "python"
    }
  },
  "cells": [
    {
      "cell_type": "markdown",
      "source": [
        "# Image Classification"
      ],
      "metadata": {
        "id": "cR4K70DQOJQs"
      }
    },
    {
      "cell_type": "markdown",
      "source": [
        "## Load Sample Data (Image)"
      ],
      "metadata": {
        "id": "Bu-smVk2OL_E"
      }
    },
    {
      "cell_type": "code",
      "source": [
        "from PIL import Image\n",
        "\n",
        "img = Image.open(\"images/anime-image.jpg\")"
      ],
      "metadata": {
        "id": "GoInUNIBIokn"
      },
      "execution_count": null,
      "outputs": []
    },
    {
      "cell_type": "code",
      "source": [
        "checkpoint = \"prithivMLmods/vit-mini-explicit-content\""
      ],
      "metadata": {
        "id": "NMuNXAbaMoWE"
      },
      "execution_count": null,
      "outputs": []
    },
    {
      "cell_type": "code",
      "source": [
        "labels = [\n",
        "    \"Anime Picture\",\n",
        "    \"Enticing & Sensual\",\n",
        "    \"Hentai\",\n",
        "    \"Pornography\",\n",
        "    \"Safe for Work\"\n",
        "]"
      ],
      "metadata": {
        "id": "4xEgMsp8Me22"
      },
      "execution_count": null,
      "outputs": []
    },
    {
      "cell_type": "markdown",
      "source": [
        "## Predict Through Pipeline"
      ],
      "metadata": {
        "id": "CmKJjhD3DRF7"
      }
    },
    {
      "cell_type": "code",
      "source": [
        "from transformers import pipeline\n",
        "\n",
        "classifier = pipeline(\"image-classification\", model=checkpoint)"
      ],
      "metadata": {
        "colab": {
          "base_uri": "https://localhost:8080/"
        },
        "id": "-bBGZuICHncA",
        "outputId": "2d60ad6e-e955-4b8e-ae76-d7663be64139"
      },
      "execution_count": null,
      "outputs": [
        {
          "output_type": "stream",
          "name": "stderr",
          "text": [
            "Device set to use cpu\n"
          ]
        }
      ]
    },
    {
      "cell_type": "code",
      "source": [
        "classifier(img)"
      ],
      "metadata": {
        "colab": {
          "base_uri": "https://localhost:8080/"
        },
        "id": "C_JsIhPXJPHY",
        "outputId": "9163b907-8cfa-4d17-cfda-af314d995724"
      },
      "execution_count": null,
      "outputs": [
        {
          "output_type": "execute_result",
          "data": {
            "text/plain": [
              "[{'label': 'Anime Picture', 'score': 0.8580977320671082},\n",
              " {'label': 'Hentai', 'score': 0.05237792804837227},\n",
              " {'label': 'Safe for Work', 'score': 0.04437308758497238},\n",
              " {'label': 'Pornography', 'score': 0.02566503919661045},\n",
              " {'label': 'Extincing & Sensual', 'score': 0.01948624849319458}]"
            ]
          },
          "metadata": {},
          "execution_count": 31
        }
      ]
    },
    {
      "cell_type": "markdown",
      "source": [
        "## Predict Through AutoFeatureExtractor and AutoModelForImageClassification"
      ],
      "metadata": {
        "id": "MncD9Za7L5-x"
      }
    },
    {
      "cell_type": "code",
      "execution_count": null,
      "metadata": {
        "colab": {
          "base_uri": "https://localhost:8080/"
        },
        "id": "2u8FjvTKCU4W",
        "outputId": "39a8fe63-d4d1-46c9-b07e-796042647c57"
      },
      "outputs": [
        {
          "output_type": "stream",
          "name": "stderr",
          "text": [
            "/usr/local/lib/python3.11/dist-packages/transformers/models/vit/feature_extraction_vit.py:28: FutureWarning: The class ViTFeatureExtractor is deprecated and will be removed in version 5 of Transformers. Please use ViTImageProcessor instead.\n",
            "  warnings.warn(\n"
          ]
        }
      ],
      "source": [
        "from transformers import AutoFeatureExtractor, AutoModelForImageClassification\n",
        "\n",
        "processor = AutoFeatureExtractor.from_pretrained(checkpoint)\n",
        "transformer_model = AutoModelForImageClassification.from_pretrained(checkpoint)"
      ]
    },
    {
      "cell_type": "code",
      "source": [
        "import torch\n",
        "\n",
        "inputs = processor(img, return_tensors=\"pt\")\n",
        "print(inputs.keys())\n",
        "inputs"
      ],
      "metadata": {
        "colab": {
          "base_uri": "https://localhost:8080/"
        },
        "id": "DuNqAQQkJtob",
        "outputId": "b7bc5f2e-0639-4eab-80b6-fbcb1c6f810d"
      },
      "execution_count": null,
      "outputs": [
        {
          "output_type": "stream",
          "name": "stdout",
          "text": [
            "dict_keys(['pixel_values'])\n"
          ]
        },
        {
          "output_type": "execute_result",
          "data": {
            "text/plain": [
              "{'pixel_values': tensor([[[[-0.2863, -0.2784, -0.2627,  ...,  0.7961,  0.8039,  0.8118],\n",
              "          [-0.2863, -0.2784, -0.2627,  ...,  0.7961,  0.8039,  0.8118],\n",
              "          [-0.2863, -0.2784, -0.2627,  ...,  0.8039,  0.8118,  0.8118],\n",
              "          ...,\n",
              "          [-0.4510, -0.7961, -0.7804,  ..., -0.6314, -0.6157, -0.5529],\n",
              "          [-0.3490, -0.7804, -0.7725,  ..., -0.6627, -0.6392, -0.5765],\n",
              "          [-0.2863, -0.7725, -0.7725,  ..., -0.6863, -0.6549, -0.5922]],\n",
              "\n",
              "         [[ 0.5765,  0.5765,  0.5765,  ...,  0.9843,  0.9765,  0.9608],\n",
              "          [ 0.5765,  0.5765,  0.5765,  ...,  0.9843,  0.9765,  0.9608],\n",
              "          [ 0.5765,  0.5765,  0.5765,  ...,  0.9922,  0.9843,  0.9608],\n",
              "          ...,\n",
              "          [-0.4353, -0.7490, -0.6941,  ...,  0.2706,  0.2471,  0.2392],\n",
              "          [-0.3490, -0.7412, -0.6863,  ...,  0.2471,  0.2314,  0.2157],\n",
              "          [-0.3020, -0.7412, -0.6863,  ...,  0.2235,  0.2235,  0.2000]],\n",
              "\n",
              "         [[ 0.9765,  0.9765,  0.9843,  ...,  1.0000,  0.9922,  0.9922],\n",
              "          [ 0.9765,  0.9765,  0.9843,  ...,  1.0000,  0.9922,  0.9922],\n",
              "          [ 0.9765,  0.9765,  0.9843,  ...,  1.0000,  1.0000,  0.9922],\n",
              "          ...,\n",
              "          [-0.2784, -0.5765, -0.4824,  ...,  0.8510,  0.8588,  0.8902],\n",
              "          [-0.1922, -0.5686, -0.4745,  ...,  0.7961,  0.8275,  0.8588],\n",
              "          [-0.1373, -0.5686, -0.4745,  ...,  0.7412,  0.7882,  0.8196]]]])}"
            ]
          },
          "metadata": {},
          "execution_count": 35
        }
      ]
    },
    {
      "cell_type": "code",
      "source": [
        "with torch.no_grad():\n",
        "    outputs = transformer_model(**inputs)\n",
        "outputs"
      ],
      "metadata": {
        "colab": {
          "base_uri": "https://localhost:8080/"
        },
        "id": "iGH6yaMfKbsW",
        "outputId": "687d8017-3ced-487f-af22-7c6e2fed8137"
      },
      "execution_count": null,
      "outputs": [
        {
          "output_type": "execute_result",
          "data": {
            "text/plain": [
              "ImageClassifierOutput(loss=None, logits=tensor([[ 2.5009, -1.2841, -0.2954, -1.0087, -0.4612]]), hidden_states=None, attentions=None)"
            ]
          },
          "metadata": {},
          "execution_count": 18
        }
      ]
    },
    {
      "cell_type": "code",
      "source": [
        "logits = outputs.logits\n",
        "logits"
      ],
      "metadata": {
        "colab": {
          "base_uri": "https://localhost:8080/"
        },
        "id": "hipQ8z7TKhbg",
        "outputId": "596984ba-07e7-438a-8f72-3928c2e31ac1"
      },
      "execution_count": null,
      "outputs": [
        {
          "output_type": "execute_result",
          "data": {
            "text/plain": [
              "tensor([[ 2.5009, -1.2841, -0.2954, -1.0087, -0.4612]])"
            ]
          },
          "metadata": {},
          "execution_count": 19
        }
      ]
    },
    {
      "cell_type": "code",
      "source": [
        "probs = torch.nn.functional.softmax(logits, dim=1)\n",
        "probs"
      ],
      "metadata": {
        "colab": {
          "base_uri": "https://localhost:8080/"
        },
        "id": "YBH64EMSLNs5",
        "outputId": "08d0d342-64ac-408a-fe1e-a8a0744afa3a"
      },
      "execution_count": null,
      "outputs": [
        {
          "output_type": "execute_result",
          "data": {
            "text/plain": [
              "tensor([[0.8581, 0.0195, 0.0524, 0.0257, 0.0444]])"
            ]
          },
          "metadata": {},
          "execution_count": 24
        }
      ]
    },
    {
      "cell_type": "code",
      "source": [
        "for i, prob in enumerate(probs.squeeze()):\n",
        "    print(f\"{labels[i]}: {prob*100:.2f}%\")"
      ],
      "metadata": {
        "colab": {
          "base_uri": "https://localhost:8080/"
        },
        "id": "il-05PfLLbFO",
        "outputId": "848623fd-b1e0-4f55-befb-4cf8b232cb6e"
      },
      "execution_count": null,
      "outputs": [
        {
          "output_type": "stream",
          "name": "stdout",
          "text": [
            "Anime Picture: 85.81%\n",
            "Enticing & Sensual: 1.95%\n",
            "Hentai: 5.24%\n",
            "Pornography: 2.57%\n",
            "Safe for Work: 4.44%\n"
          ]
        }
      ]
    }
  ]
}